{
 "cells": [
  {
   "cell_type": "markdown",
   "metadata": {},
   "source": [
    "# Classification ECG either Normal or Abnormal "
   ]
  },
  {
   "cell_type": "markdown",
   "metadata": {},
   "source": [
    "### Introduction:"
   ]
  },
  {
   "cell_type": "markdown",
   "metadata": {},
   "source": [
    "<img src=\"heartbeat.png\" style=\"width:760px;height:368px;\">\n",
    "\n",
    "This work allows to classify the cardiographic ECG in normal and abnormal and for the abnormal categories also to classify them in under classify in Tachycardias and Bradycardia using LSTM in a first case then try to add the mechanism of attention to be facliser on paying attention to cardiac ECG regions.\n",
    "\n",
    "I have two different datasets, but I will only consider one at the start: mitbih. The MIT-BIH arrhythmia database contains 48 half-hour extracts from two-channel ambulatory ECG recordings obtained from 47 subjects studied by the BIH arrhythmia laboratory between 1975 and 1979 Twenty-three records were randomly selected from a pool of 4,000 24- hour-long ambulatory ECG records collected from a mixed population of hospitalized (approximately 60%) and ambulatory (approximately 40%) hospital patients. Beth Israel of Boston; the remaining 25 records were selected from the same set to include less common but clinically significant arrhythmias that would not be well represented in a small random sample. souces: https://www.kaggle.com/shayanfazeli/heartbeat\n"
   ]
  },
  {
   "cell_type": "code",
   "execution_count": 1,
   "metadata": {},
   "outputs": [
    {
     "name": "stderr",
     "output_type": "stream",
     "text": [
      "Using TensorFlow backend.\n"
     ]
    }
   ],
   "source": [
    "import pandas as pd \n",
    "import numpy as np\n",
    "import matplotlib.pyplot as plt # plotting\n",
    "import os\n",
    "import sklearn\n",
    "from keras.models import Sequential\n",
    "from keras.layers import Flatten, Dense, Dropout, BatchNormalization, AveragePooling2D\n",
    "from sklearn.model_selection import train_test_split\n",
    "from sklearn import svm\n",
    "from sklearn.metrics import classification_report, confusion_matrix\n",
    "from sklearn.metrics import accuracy_score, f1_score, precision_score, recall_score\n",
    "from sklearn.linear_model import LogisticRegression\n",
    "from sklearn.naive_bayes import GaussianNB\n",
    "from sklearn.linear_model import SGDClassifier\n",
    "from sklearn.neighbors import KNeighborsClassifier\n",
    "from sklearn.tree import DecisionTreeClassifier\n",
    "from sklearn.ensemble import RandomForestClassifier\n",
    "import scipy\n",
    "from imblearn.over_sampling import SMOTE\n",
    "from sklearn.model_selection import cross_validate\n",
    "from keras.layers import Conv1D, MaxPooling1D, Embedding, Concatenate, Dropout, LSTM, GRU, Bidirectional"
   ]
  },
  {
   "cell_type": "markdown",
   "metadata": {},
   "source": [
    "### Data loading"
   ]
  },
  {
   "cell_type": "code",
   "execution_count": 2,
   "metadata": {},
   "outputs": [],
   "source": [
    "test=pd.read_csv(\"C:/Users/asus/Desktop/DataSet/mitbih_test.csv\",header=None) \n",
    "train=pd.read_csv(\"C:/Users/asus/Desktop/DataSet/mitbih_train.csv\",header=None) \n",
    "#Classes: ['N': 0, 'S': 1, 'V': 2, 'F': 3, 'Q': 4]\n",
    "# N- normal, S-supraventricular, V-ventricular, F-fusion, Q- unknown"
   ]
  },
  {
   "cell_type": "code",
   "execution_count": 3,
   "metadata": {},
   "outputs": [
    {
     "name": "stdout",
     "output_type": "stream",
     "text": [
      "Type\tCount\n",
      "0.0    72471\n",
      "4.0     6431\n",
      "2.0     5788\n",
      "1.0     2223\n",
      "3.0      641\n",
      "Name: 187, dtype: int64\n",
      "train shape :  (87554, 188)\n",
      "test shape :  (21892, 188)\n"
     ]
    }
   ],
   "source": [
    "print(\"Type\\tCount\")\n",
    "print((train[187]).value_counts())\n",
    "\n",
    "print(\"train shape : \",train.shape)\n",
    "print(\"test shape : \",test.shape)"
   ]
  },
  {
   "cell_type": "markdown",
   "metadata": {},
   "source": [
    "### Processing data"
   ]
  },
  {
   "cell_type": "code",
   "execution_count": 4,
   "metadata": {},
   "outputs": [],
   "source": [
    "# making multiclass to binary class new labels_train containing either 0 or 1 \n",
    "\n",
    "label_train=[] \n",
    "for i in train.iloc[:,187] :\n",
    "    if i not in  [0.0]:\n",
    "        label_train.append(1)\n",
    "        #print(\"value is\",i)\n",
    "    else:\n",
    "        label_train.append(0)\n",
    "        #print(\"value\",i)"
   ]
  },
  {
   "cell_type": "code",
   "execution_count": 5,
   "metadata": {},
   "outputs": [],
   "source": [
    "# making multiclass to binary class.now labels_test containing either 0 or 1 \n",
    "\n",
    "label_test=[]  \n",
    "for i in test.iloc[:,187]:\n",
    "    if i not in  [0.0]:\n",
    "        label_test.append(1)\n",
    "        #print(\"value is\",i)\n",
    "    else:\n",
    "        label_test.append(0)\n",
    "        #print(\"value\",i)"
   ]
  },
  {
   "cell_type": "code",
   "execution_count": 6,
   "metadata": {},
   "outputs": [],
   "source": [
    "#create new df \n",
    "labels_train = pd.DataFrame({'col':label_train})\n",
    "#print (labels_train)\n",
    "\n",
    "labels_test = pd.DataFrame({'col':label_test})\n",
    "#print (labels_test)"
   ]
  },
  {
   "cell_type": "code",
   "execution_count": 7,
   "metadata": {},
   "outputs": [],
   "source": [
    "label_train=np.asarray(label_train)\n",
    "\n",
    "label_test=np.asarray(label_test)\n",
    "\n",
    "train[187] = labels_train    # replace labels column with binary labels\n",
    "test[187] =  labels_test"
   ]
  },
  {
   "cell_type": "code",
   "execution_count": 8,
   "metadata": {},
   "outputs": [
    {
     "name": "stdout",
     "output_type": "stream",
     "text": [
      "Count of all classes in training dataset\n",
      "Type\tCount\n",
      "0    72471\n",
      "1    15083\n",
      "Name: 187, dtype: int64\n",
      "*************************************\n",
      "Count of all classes in test dataset\n",
      "Type\tCount\n",
      "0    18118\n",
      "1     3774\n",
      "Name: 187, dtype: int64\n"
     ]
    }
   ],
   "source": [
    "print('Count of all classes in training dataset')\n",
    "print(\"Type\\tCount\")\n",
    "print((train[187]).value_counts())\n",
    "\n",
    "print('*************************************')\n",
    "\n",
    "print('Count of all classes in test dataset')\n",
    "print(\"Type\\tCount\")\n",
    "print((test[187]).value_counts())"
   ]
  },
  {
   "cell_type": "code",
   "execution_count": 9,
   "metadata": {},
   "outputs": [
    {
     "data": {
      "text/html": [
       "<div>\n",
       "<style scoped>\n",
       "    .dataframe tbody tr th:only-of-type {\n",
       "        vertical-align: middle;\n",
       "    }\n",
       "\n",
       "    .dataframe tbody tr th {\n",
       "        vertical-align: top;\n",
       "    }\n",
       "\n",
       "    .dataframe thead th {\n",
       "        text-align: right;\n",
       "    }\n",
       "</style>\n",
       "<table border=\"1\" class=\"dataframe\">\n",
       "  <thead>\n",
       "    <tr style=\"text-align: right;\">\n",
       "      <th></th>\n",
       "      <th>0</th>\n",
       "      <th>1</th>\n",
       "      <th>2</th>\n",
       "      <th>3</th>\n",
       "      <th>4</th>\n",
       "      <th>5</th>\n",
       "      <th>6</th>\n",
       "      <th>7</th>\n",
       "      <th>8</th>\n",
       "      <th>9</th>\n",
       "      <th>...</th>\n",
       "      <th>178</th>\n",
       "      <th>179</th>\n",
       "      <th>180</th>\n",
       "      <th>181</th>\n",
       "      <th>182</th>\n",
       "      <th>183</th>\n",
       "      <th>184</th>\n",
       "      <th>185</th>\n",
       "      <th>186</th>\n",
       "      <th>187</th>\n",
       "    </tr>\n",
       "  </thead>\n",
       "  <tbody>\n",
       "    <tr>\n",
       "      <th>0</th>\n",
       "      <td>0.977941</td>\n",
       "      <td>0.926471</td>\n",
       "      <td>0.681373</td>\n",
       "      <td>0.245098</td>\n",
       "      <td>0.154412</td>\n",
       "      <td>0.191176</td>\n",
       "      <td>0.151961</td>\n",
       "      <td>0.085784</td>\n",
       "      <td>0.058824</td>\n",
       "      <td>0.049020</td>\n",
       "      <td>...</td>\n",
       "      <td>0.0</td>\n",
       "      <td>0.0</td>\n",
       "      <td>0.0</td>\n",
       "      <td>0.0</td>\n",
       "      <td>0.0</td>\n",
       "      <td>0.0</td>\n",
       "      <td>0.0</td>\n",
       "      <td>0.0</td>\n",
       "      <td>0.0</td>\n",
       "      <td>0</td>\n",
       "    </tr>\n",
       "    <tr>\n",
       "      <th>1</th>\n",
       "      <td>0.960114</td>\n",
       "      <td>0.863248</td>\n",
       "      <td>0.461538</td>\n",
       "      <td>0.196581</td>\n",
       "      <td>0.094017</td>\n",
       "      <td>0.125356</td>\n",
       "      <td>0.099715</td>\n",
       "      <td>0.088319</td>\n",
       "      <td>0.074074</td>\n",
       "      <td>0.082621</td>\n",
       "      <td>...</td>\n",
       "      <td>0.0</td>\n",
       "      <td>0.0</td>\n",
       "      <td>0.0</td>\n",
       "      <td>0.0</td>\n",
       "      <td>0.0</td>\n",
       "      <td>0.0</td>\n",
       "      <td>0.0</td>\n",
       "      <td>0.0</td>\n",
       "      <td>0.0</td>\n",
       "      <td>0</td>\n",
       "    </tr>\n",
       "    <tr>\n",
       "      <th>2</th>\n",
       "      <td>1.000000</td>\n",
       "      <td>0.659459</td>\n",
       "      <td>0.186486</td>\n",
       "      <td>0.070270</td>\n",
       "      <td>0.070270</td>\n",
       "      <td>0.059459</td>\n",
       "      <td>0.056757</td>\n",
       "      <td>0.043243</td>\n",
       "      <td>0.054054</td>\n",
       "      <td>0.045946</td>\n",
       "      <td>...</td>\n",
       "      <td>0.0</td>\n",
       "      <td>0.0</td>\n",
       "      <td>0.0</td>\n",
       "      <td>0.0</td>\n",
       "      <td>0.0</td>\n",
       "      <td>0.0</td>\n",
       "      <td>0.0</td>\n",
       "      <td>0.0</td>\n",
       "      <td>0.0</td>\n",
       "      <td>0</td>\n",
       "    </tr>\n",
       "    <tr>\n",
       "      <th>3</th>\n",
       "      <td>0.925414</td>\n",
       "      <td>0.665746</td>\n",
       "      <td>0.541436</td>\n",
       "      <td>0.276243</td>\n",
       "      <td>0.196133</td>\n",
       "      <td>0.077348</td>\n",
       "      <td>0.071823</td>\n",
       "      <td>0.060773</td>\n",
       "      <td>0.066298</td>\n",
       "      <td>0.058011</td>\n",
       "      <td>...</td>\n",
       "      <td>0.0</td>\n",
       "      <td>0.0</td>\n",
       "      <td>0.0</td>\n",
       "      <td>0.0</td>\n",
       "      <td>0.0</td>\n",
       "      <td>0.0</td>\n",
       "      <td>0.0</td>\n",
       "      <td>0.0</td>\n",
       "      <td>0.0</td>\n",
       "      <td>0</td>\n",
       "    </tr>\n",
       "    <tr>\n",
       "      <th>4</th>\n",
       "      <td>0.967136</td>\n",
       "      <td>1.000000</td>\n",
       "      <td>0.830986</td>\n",
       "      <td>0.586854</td>\n",
       "      <td>0.356808</td>\n",
       "      <td>0.248826</td>\n",
       "      <td>0.145540</td>\n",
       "      <td>0.089202</td>\n",
       "      <td>0.117371</td>\n",
       "      <td>0.150235</td>\n",
       "      <td>...</td>\n",
       "      <td>0.0</td>\n",
       "      <td>0.0</td>\n",
       "      <td>0.0</td>\n",
       "      <td>0.0</td>\n",
       "      <td>0.0</td>\n",
       "      <td>0.0</td>\n",
       "      <td>0.0</td>\n",
       "      <td>0.0</td>\n",
       "      <td>0.0</td>\n",
       "      <td>0</td>\n",
       "    </tr>\n",
       "    <tr>\n",
       "      <th>...</th>\n",
       "      <td>...</td>\n",
       "      <td>...</td>\n",
       "      <td>...</td>\n",
       "      <td>...</td>\n",
       "      <td>...</td>\n",
       "      <td>...</td>\n",
       "      <td>...</td>\n",
       "      <td>...</td>\n",
       "      <td>...</td>\n",
       "      <td>...</td>\n",
       "      <td>...</td>\n",
       "      <td>...</td>\n",
       "      <td>...</td>\n",
       "      <td>...</td>\n",
       "      <td>...</td>\n",
       "      <td>...</td>\n",
       "      <td>...</td>\n",
       "      <td>...</td>\n",
       "      <td>...</td>\n",
       "      <td>...</td>\n",
       "      <td>...</td>\n",
       "    </tr>\n",
       "    <tr>\n",
       "      <th>87549</th>\n",
       "      <td>0.807018</td>\n",
       "      <td>0.494737</td>\n",
       "      <td>0.536842</td>\n",
       "      <td>0.529825</td>\n",
       "      <td>0.491228</td>\n",
       "      <td>0.484211</td>\n",
       "      <td>0.456140</td>\n",
       "      <td>0.396491</td>\n",
       "      <td>0.284211</td>\n",
       "      <td>0.136842</td>\n",
       "      <td>...</td>\n",
       "      <td>0.0</td>\n",
       "      <td>0.0</td>\n",
       "      <td>0.0</td>\n",
       "      <td>0.0</td>\n",
       "      <td>0.0</td>\n",
       "      <td>0.0</td>\n",
       "      <td>0.0</td>\n",
       "      <td>0.0</td>\n",
       "      <td>0.0</td>\n",
       "      <td>1</td>\n",
       "    </tr>\n",
       "    <tr>\n",
       "      <th>87550</th>\n",
       "      <td>0.718333</td>\n",
       "      <td>0.605000</td>\n",
       "      <td>0.486667</td>\n",
       "      <td>0.361667</td>\n",
       "      <td>0.231667</td>\n",
       "      <td>0.120000</td>\n",
       "      <td>0.051667</td>\n",
       "      <td>0.001667</td>\n",
       "      <td>0.000000</td>\n",
       "      <td>0.013333</td>\n",
       "      <td>...</td>\n",
       "      <td>0.0</td>\n",
       "      <td>0.0</td>\n",
       "      <td>0.0</td>\n",
       "      <td>0.0</td>\n",
       "      <td>0.0</td>\n",
       "      <td>0.0</td>\n",
       "      <td>0.0</td>\n",
       "      <td>0.0</td>\n",
       "      <td>0.0</td>\n",
       "      <td>1</td>\n",
       "    </tr>\n",
       "    <tr>\n",
       "      <th>87551</th>\n",
       "      <td>0.906122</td>\n",
       "      <td>0.624490</td>\n",
       "      <td>0.595918</td>\n",
       "      <td>0.575510</td>\n",
       "      <td>0.530612</td>\n",
       "      <td>0.481633</td>\n",
       "      <td>0.444898</td>\n",
       "      <td>0.387755</td>\n",
       "      <td>0.322449</td>\n",
       "      <td>0.191837</td>\n",
       "      <td>...</td>\n",
       "      <td>0.0</td>\n",
       "      <td>0.0</td>\n",
       "      <td>0.0</td>\n",
       "      <td>0.0</td>\n",
       "      <td>0.0</td>\n",
       "      <td>0.0</td>\n",
       "      <td>0.0</td>\n",
       "      <td>0.0</td>\n",
       "      <td>0.0</td>\n",
       "      <td>1</td>\n",
       "    </tr>\n",
       "    <tr>\n",
       "      <th>87552</th>\n",
       "      <td>0.858228</td>\n",
       "      <td>0.645570</td>\n",
       "      <td>0.845570</td>\n",
       "      <td>0.248101</td>\n",
       "      <td>0.167089</td>\n",
       "      <td>0.131646</td>\n",
       "      <td>0.121519</td>\n",
       "      <td>0.121519</td>\n",
       "      <td>0.118987</td>\n",
       "      <td>0.103797</td>\n",
       "      <td>...</td>\n",
       "      <td>0.0</td>\n",
       "      <td>0.0</td>\n",
       "      <td>0.0</td>\n",
       "      <td>0.0</td>\n",
       "      <td>0.0</td>\n",
       "      <td>0.0</td>\n",
       "      <td>0.0</td>\n",
       "      <td>0.0</td>\n",
       "      <td>0.0</td>\n",
       "      <td>1</td>\n",
       "    </tr>\n",
       "    <tr>\n",
       "      <th>87553</th>\n",
       "      <td>0.901506</td>\n",
       "      <td>0.845886</td>\n",
       "      <td>0.800695</td>\n",
       "      <td>0.748552</td>\n",
       "      <td>0.687138</td>\n",
       "      <td>0.599073</td>\n",
       "      <td>0.512167</td>\n",
       "      <td>0.427578</td>\n",
       "      <td>0.395133</td>\n",
       "      <td>0.402086</td>\n",
       "      <td>...</td>\n",
       "      <td>0.0</td>\n",
       "      <td>0.0</td>\n",
       "      <td>0.0</td>\n",
       "      <td>0.0</td>\n",
       "      <td>0.0</td>\n",
       "      <td>0.0</td>\n",
       "      <td>0.0</td>\n",
       "      <td>0.0</td>\n",
       "      <td>0.0</td>\n",
       "      <td>1</td>\n",
       "    </tr>\n",
       "  </tbody>\n",
       "</table>\n",
       "<p>87554 rows × 188 columns</p>\n",
       "</div>"
      ],
      "text/plain": [
       "            0         1         2         3         4         5         6    \\\n",
       "0      0.977941  0.926471  0.681373  0.245098  0.154412  0.191176  0.151961   \n",
       "1      0.960114  0.863248  0.461538  0.196581  0.094017  0.125356  0.099715   \n",
       "2      1.000000  0.659459  0.186486  0.070270  0.070270  0.059459  0.056757   \n",
       "3      0.925414  0.665746  0.541436  0.276243  0.196133  0.077348  0.071823   \n",
       "4      0.967136  1.000000  0.830986  0.586854  0.356808  0.248826  0.145540   \n",
       "...         ...       ...       ...       ...       ...       ...       ...   \n",
       "87549  0.807018  0.494737  0.536842  0.529825  0.491228  0.484211  0.456140   \n",
       "87550  0.718333  0.605000  0.486667  0.361667  0.231667  0.120000  0.051667   \n",
       "87551  0.906122  0.624490  0.595918  0.575510  0.530612  0.481633  0.444898   \n",
       "87552  0.858228  0.645570  0.845570  0.248101  0.167089  0.131646  0.121519   \n",
       "87553  0.901506  0.845886  0.800695  0.748552  0.687138  0.599073  0.512167   \n",
       "\n",
       "            7         8         9    ...  178  179  180  181  182  183  184  \\\n",
       "0      0.085784  0.058824  0.049020  ...  0.0  0.0  0.0  0.0  0.0  0.0  0.0   \n",
       "1      0.088319  0.074074  0.082621  ...  0.0  0.0  0.0  0.0  0.0  0.0  0.0   \n",
       "2      0.043243  0.054054  0.045946  ...  0.0  0.0  0.0  0.0  0.0  0.0  0.0   \n",
       "3      0.060773  0.066298  0.058011  ...  0.0  0.0  0.0  0.0  0.0  0.0  0.0   \n",
       "4      0.089202  0.117371  0.150235  ...  0.0  0.0  0.0  0.0  0.0  0.0  0.0   \n",
       "...         ...       ...       ...  ...  ...  ...  ...  ...  ...  ...  ...   \n",
       "87549  0.396491  0.284211  0.136842  ...  0.0  0.0  0.0  0.0  0.0  0.0  0.0   \n",
       "87550  0.001667  0.000000  0.013333  ...  0.0  0.0  0.0  0.0  0.0  0.0  0.0   \n",
       "87551  0.387755  0.322449  0.191837  ...  0.0  0.0  0.0  0.0  0.0  0.0  0.0   \n",
       "87552  0.121519  0.118987  0.103797  ...  0.0  0.0  0.0  0.0  0.0  0.0  0.0   \n",
       "87553  0.427578  0.395133  0.402086  ...  0.0  0.0  0.0  0.0  0.0  0.0  0.0   \n",
       "\n",
       "       185  186  187  \n",
       "0      0.0  0.0    0  \n",
       "1      0.0  0.0    0  \n",
       "2      0.0  0.0    0  \n",
       "3      0.0  0.0    0  \n",
       "4      0.0  0.0    0  \n",
       "...    ...  ...  ...  \n",
       "87549  0.0  0.0    1  \n",
       "87550  0.0  0.0    1  \n",
       "87551  0.0  0.0    1  \n",
       "87552  0.0  0.0    1  \n",
       "87553  0.0  0.0    1  \n",
       "\n",
       "[87554 rows x 188 columns]"
      ]
     },
     "execution_count": 9,
     "metadata": {},
     "output_type": "execute_result"
    }
   ],
   "source": [
    "train"
   ]
  },
  {
   "cell_type": "code",
   "execution_count": 10,
   "metadata": {},
   "outputs": [],
   "source": [
    "dt = np.array(train)\n",
    "dt_test=np.array(test)"
   ]
  },
  {
   "cell_type": "code",
   "execution_count": 11,
   "metadata": {},
   "outputs": [
    {
     "name": "stderr",
     "output_type": "stream",
     "text": [
      "No handles with labels found to put in legend.\n"
     ]
    },
    {
     "data": {
      "image/png": "[encoded data removed]",
      "text/plain": [
       "<Figure size 720x360 with 1 Axes>"
      ]
     },
     "metadata": {},
     "output_type": "display_data"
    }
   ],
   "source": [
    "import seaborn as sb\n",
    "import scipy as sc\n",
    "import matplotlib.pyplot as plt\n",
    "sb.set_style(\"whitegrid\")\n",
    "x = np.arange(0, 186)*0.008 # In the experiment, only ECG lead II, MI and healthy samples were used. And in the experiment, the re-sampling frequency is 125 Hz. That is 0.008s. A signal contains 187 values, which is about 1.5s.\n",
    "plt.figure(figsize=(10,5))\n",
    "plt.plot(x, dt[0,:186] ) # data should  be array !\n",
    "\n",
    "plt.legend()\n",
    "plt.title(\"ECG \", fontsize=15)\n",
    "plt.ylabel(\"Amplitude\", fontsize=10)\n",
    "plt.xlabel(\"Time (s)\", fontsize=10)\n",
    "plt.show()"
   ]
  },
  {
   "cell_type": "code",
   "execution_count": 12,
   "metadata": {},
   "outputs": [],
   "source": [
    "def detect_peaks(data): # data should be array \n",
    "    pos=0\n",
    "    pospeak=[]\n",
    "\n",
    "    for i in data:\n",
    "        pos=pos+1\n",
    "        if i > 0.9 and i < 1:\n",
    "            pospeak.append(pos)\n",
    "            #print(\"peak\")\n",
    "    return ( pospeak)"
   ]
  },
  {
   "cell_type": "code",
   "execution_count": 13,
   "metadata": {},
   "outputs": [],
   "source": [
    "def calc_bpm(x,pospeak):\n",
    "    i=len(pospeak)-1\n",
    "    carreau = x[pospeak[i]]/0.04\n",
    "    bpm = 1500 / carreau\n",
    "    return bpm\n",
    "# This formula from: https://litfl.com/ecg-rate-interpretation/"
   ]
  },
  {
   "cell_type": "code",
   "execution_count": 14,
   "metadata": {},
   "outputs": [],
   "source": [
    "#add column to my data \n",
    "train[188]=1\n",
    "test[188]=1"
   ]
  },
  {
   "cell_type": "markdown",
   "metadata": {},
   "source": [
    "## Make train set classified by heart rates "
   ]
  },
  {
   "cell_type": "code",
   "execution_count": 15,
   "metadata": {},
   "outputs": [
    {
     "name": "stderr",
     "output_type": "stream",
     "text": [
      "C:\\Users\\asus\\Anaconda3\\envs\\tensorflow\\lib\\site-packages\\ipykernel_launcher.py:13: SettingWithCopyWarning: \n",
      "A value is trying to be set on a copy of a slice from a DataFrame\n",
      "\n",
      "See the caveats in the documentation: https://pandas.pydata.org/pandas-docs/stable/user_guide/indexing.html#returning-a-view-versus-a-copy\n",
      "  del sys.path[0]\n",
      "C:\\Users\\asus\\Anaconda3\\envs\\tensorflow\\lib\\site-packages\\ipykernel_launcher.py:9: SettingWithCopyWarning: \n",
      "A value is trying to be set on a copy of a slice from a DataFrame\n",
      "\n",
      "See the caveats in the documentation: https://pandas.pydata.org/pandas-docs/stable/user_guide/indexing.html#returning-a-view-versus-a-copy\n",
      "  if __name__ == '__main__':\n"
     ]
    }
   ],
   "source": [
    "bpmcoeur=[]\n",
    "i=0\n",
    "for e in dt:# extract row by row in my data \n",
    "    x = np.arange(0, 188)*0.008\n",
    "    pospeak=[]\n",
    "    pospeak=detect_peaks(e)\n",
    "    #print(pospeak)\n",
    "    if not pospeak :\n",
    "        train[188][i]=0\n",
    "        i=i+1\n",
    "    else:\n",
    "        b=calc_bpm(x,pospeak)\n",
    "        train[188][i]=float(b)\n",
    "        i=i+1\n",
    "        bpmcoeur.append(b)\n",
    "#print(bpmcoeur)"
   ]
  },
  {
   "cell_type": "code",
   "execution_count": 16,
   "metadata": {},
   "outputs": [
    {
     "name": "stderr",
     "output_type": "stream",
     "text": [
      "C:\\Users\\asus\\Anaconda3\\envs\\tensorflow\\lib\\site-packages\\ipykernel_launcher.py:10: SettingWithCopyWarning: \n",
      "A value is trying to be set on a copy of a slice from a DataFrame\n",
      "\n",
      "See the caveats in the documentation: https://pandas.pydata.org/pandas-docs/stable/user_guide/indexing.html#returning-a-view-versus-a-copy\n",
      "  # Remove the CWD from sys.path while we load stuff.\n",
      "C:\\Users\\asus\\Anaconda3\\envs\\tensorflow\\lib\\site-packages\\ipykernel_launcher.py:12: SettingWithCopyWarning: \n",
      "A value is trying to be set on a copy of a slice from a DataFrame\n",
      "\n",
      "See the caveats in the documentation: https://pandas.pydata.org/pandas-docs/stable/user_guide/indexing.html#returning-a-view-versus-a-copy\n",
      "  if sys.path[0] == '':\n"
     ]
    }
   ],
   "source": [
    "\"\"\"\n",
    "Normal: 60–100 beats/min + signal normal                    ->  classe 0\n",
    "Anormal : Heart rates <60 or > 100 + \"S\" , \"V\" , \"Q\" or \"F\" -> classe 1\n",
    "\"\"\"\n",
    "data = train\n",
    "for i in range(len(data)):\n",
    "    if data[187][i] == 0 :\n",
    "        # all signaux normal\n",
    "        if data[188][i] >= 60 and data[188][i] <= 100 :\n",
    "            data[188][i]=0 # sig have normal heart rates \n",
    "        elif data[188][i] < 60 or data[188][i] > 100:\n",
    "            data[187][i]=1"
   ]
  },
  {
   "cell_type": "code",
   "execution_count": 17,
   "metadata": {},
   "outputs": [
    {
     "data": {
      "text/plain": [
       "1    56725\n",
       "0    30829\n",
       "Name: 187, dtype: int64"
      ]
     },
     "execution_count": 17,
     "metadata": {},
     "output_type": "execute_result"
    }
   ],
   "source": [
    "train[187].value_counts() # 0 : signal normal , 1 : signal abnormal"
   ]
  },
  {
   "cell_type": "markdown",
   "metadata": {},
   "source": [
    "## Make test set classified by heart rates"
   ]
  },
  {
   "cell_type": "code",
   "execution_count": 18,
   "metadata": {},
   "outputs": [
    {
     "name": "stderr",
     "output_type": "stream",
     "text": [
      "C:\\Users\\asus\\Anaconda3\\envs\\tensorflow\\lib\\site-packages\\ipykernel_launcher.py:13: SettingWithCopyWarning: \n",
      "A value is trying to be set on a copy of a slice from a DataFrame\n",
      "\n",
      "See the caveats in the documentation: https://pandas.pydata.org/pandas-docs/stable/user_guide/indexing.html#returning-a-view-versus-a-copy\n",
      "  del sys.path[0]\n",
      "C:\\Users\\asus\\Anaconda3\\envs\\tensorflow\\lib\\site-packages\\ipykernel_launcher.py:9: SettingWithCopyWarning: \n",
      "A value is trying to be set on a copy of a slice from a DataFrame\n",
      "\n",
      "See the caveats in the documentation: https://pandas.pydata.org/pandas-docs/stable/user_guide/indexing.html#returning-a-view-versus-a-copy\n",
      "  if __name__ == '__main__':\n"
     ]
    }
   ],
   "source": [
    "bpmcoeur_test=[]\n",
    "i=0\n",
    "for e in dt_test:# extract row by row in our data \n",
    "    x = np.arange(0, 188)*0.008\n",
    "    pospeak=[]\n",
    "    pospeak=detect_peaks(e)\n",
    "    #print(pospeak)\n",
    "    if not pospeak :\n",
    "        test[188][i]=0\n",
    "        i=i+1\n",
    "    else:\n",
    "        b=calc_bpm(x,pospeak)\n",
    "        test[188][i]=float(b)\n",
    "        i=i+1\n",
    "        bpmcoeur_test.append(b)\n",
    "#print(bpmcoeur_test) "
   ]
  },
  {
   "cell_type": "code",
   "execution_count": 19,
   "metadata": {},
   "outputs": [
    {
     "name": "stderr",
     "output_type": "stream",
     "text": [
      "C:\\Users\\asus\\Anaconda3\\envs\\tensorflow\\lib\\site-packages\\ipykernel_launcher.py:6: SettingWithCopyWarning: \n",
      "A value is trying to be set on a copy of a slice from a DataFrame\n",
      "\n",
      "See the caveats in the documentation: https://pandas.pydata.org/pandas-docs/stable/user_guide/indexing.html#returning-a-view-versus-a-copy\n",
      "  \n",
      "C:\\Users\\asus\\Anaconda3\\envs\\tensorflow\\lib\\site-packages\\ipykernel_launcher.py:8: SettingWithCopyWarning: \n",
      "A value is trying to be set on a copy of a slice from a DataFrame\n",
      "\n",
      "See the caveats in the documentation: https://pandas.pydata.org/pandas-docs/stable/user_guide/indexing.html#returning-a-view-versus-a-copy\n",
      "  \n"
     ]
    }
   ],
   "source": [
    "data_test = test\n",
    "for i in range(len(data_test)):\n",
    "    if data_test[187][i] == 0 :\n",
    "        # all signaux normal\n",
    "        if data_test[188][i] >= 60 and data_test[188][i] <= 100 :\n",
    "            data_test[188][i]=0 # sig have normal heart rates \n",
    "        elif data_test[188][i] < 60 or data_test[188][i] > 100:\n",
    "            data_test[187][i]=1"
   ]
  },
  {
   "cell_type": "code",
   "execution_count": 20,
   "metadata": {},
   "outputs": [
    {
     "data": {
      "text/plain": [
       "1    14138\n",
       "0     7754\n",
       "Name: 187, dtype: int64"
      ]
     },
     "execution_count": 20,
     "metadata": {},
     "output_type": "execute_result"
    }
   ],
   "source": [
    "test[187].value_counts()"
   ]
  },
  {
   "cell_type": "markdown",
   "metadata": {},
   "source": [
    "## Training "
   ]
  },
  {
   "cell_type": "code",
   "execution_count": 21,
   "metadata": {},
   "outputs": [
    {
     "name": "stdout",
     "output_type": "stream",
     "text": [
      "train shape :  (87554, 189)\n",
      "test shape :  (21892, 189)\n",
      "feature_train shape :  (87554, 187)\n",
      "labels_train shape :  (87554,)\n",
      "feature_test shape :  (21892, 187)\n",
      "labels_test shape :  (21892,)\n"
     ]
    }
   ],
   "source": [
    "print(\"train shape : \",train.shape)\n",
    "print(\"test shape : \",test.shape)\n",
    "\n",
    "feature_train=train.iloc[:,0:187] \n",
    "#feature_train=train.iloc[:,3] \n",
    "print(\"feature_train shape : \",feature_train.shape)\n",
    "\n",
    "labels_train=train.iloc[:,187] \n",
    "print(\"labels_train shape : \",labels_train.shape)\n",
    "\n",
    "feature_test=test.iloc[:,0:187] \n",
    "#feature_test=test.iloc[:,3] \n",
    "print(\"feature_test shape : \",feature_test.shape)\n",
    "\n",
    "labels_test=test.iloc[:,187] \n",
    "print(\"labels_test shape : \",labels_test.shape)"
   ]
  },
  {
   "cell_type": "code",
   "execution_count": 22,
   "metadata": {},
   "outputs": [
    {
     "name": "stdout",
     "output_type": "stream",
     "text": [
      "(87554, 187)\n",
      "(21892, 187)\n"
     ]
    }
   ],
   "source": [
    "from sklearn.preprocessing import StandardScaler\n",
    "standardized_training_data=StandardScaler().fit_transform(feature_train)\n",
    "feature_train=standardized_training_data\n",
    "print(feature_train.shape)\n",
    "\n",
    "standardized_test_data=StandardScaler().fit_transform(feature_test)\n",
    "feature_test=standardized_test_data\n",
    "print(feature_test.shape)"
   ]
  },
  {
   "cell_type": "code",
   "execution_count": 23,
   "metadata": {},
   "outputs": [],
   "source": [
    "import numpy as np\n",
    "from keras.utils import np_utils \n",
    "import seaborn as sns\n",
    "from keras.initializers import RandomNormal\n",
    "from keras.models import Sequential\n",
    "from keras.layers import Dense\n",
    "from keras.layers import LSTM\n",
    "from keras.layers import Embedding\n",
    "from keras.preprocessing import sequence\n",
    "# fixed random seed for reproducibility\n",
    "np.random.seed(7)"
   ]
  },
  {
   "cell_type": "code",
   "execution_count": 24,
   "metadata": {},
   "outputs": [],
   "source": [
    "x_train1=feature_train\n",
    "x_test1=feature_test\n",
    "y_train1=labels_train\n",
    "y_test1=labels_test"
   ]
  },
  {
   "cell_type": "code",
   "execution_count": 25,
   "metadata": {},
   "outputs": [],
   "source": [
    "x_train1=x_train1.reshape(x_train1.shape[0],1,x_train1.shape[1])\n",
    "x_test1=x_test1.reshape(x_test1.shape[0],1,x_test1.shape[1])"
   ]
  },
  {
   "cell_type": "code",
   "execution_count": 26,
   "metadata": {},
   "outputs": [
    {
     "name": "stdout",
     "output_type": "stream",
     "text": [
      "Class label of first sample: 1\n",
      "After converting the output into a vector :  [0. 1.]\n"
     ]
    }
   ],
   "source": [
    "# here we are having a class number for each sample\n",
    "print(\"Class label of first sample:\",y_train1[83456])\n",
    "\n",
    "# lets convert this into a 10 dimensional vector\n",
    "# ex: consider an image is 5 convert it into 5 => [0, 0, 0, 0, 0, 1, 0, 0, 0, 0]\n",
    "\n",
    "#Y_train = np_utils.to_categorical(label_train, 2) \n",
    "#Y_test = np_utils.to_categorical(label_test, 2)\n",
    "\n",
    "Y_train = np_utils.to_categorical(y_train1)\n",
    "print(\"After converting the output into a vector : \",Y_train[83456])\n",
    "\n",
    "Y_test = np_utils.to_categorical(y_test1)"
   ]
  },
  {
   "cell_type": "code",
   "execution_count": 27,
   "metadata": {},
   "outputs": [
    {
     "name": "stdout",
     "output_type": "stream",
     "text": [
      "feature_train (87554, 1, 187)\n",
      "Y_train (87554, 2)\n",
      "feature_test (21892, 1, 187)\n",
      "Y_test (21892, 2)\n"
     ]
    }
   ],
   "source": [
    "print(\"feature_train\",x_train1.shape)\n",
    "print(\"Y_train\",Y_train.shape)\n",
    "print(\"feature_test\",x_test1.shape)\n",
    "print(\"Y_test\",Y_test.shape)"
   ]
  },
  {
   "cell_type": "code",
   "execution_count": 28,
   "metadata": {},
   "outputs": [],
   "source": [
    "output_dim = 2\n",
    "input_dim = feature_train.shape[1]\n",
    "\n",
    "batch_size = 512\n",
    "nb_epoch = 100\n",
    "\n",
    "model_lstm =Sequential()\n",
    "model_lstm.add(LSTM(125))\n",
    "model_lstm.add(Dropout(rate = 0.25))\n",
    "model_lstm.add(Dense(output_dim, input_dim=input_dim, activation='sigmoid'))\n",
    "model_lstm.compile(loss='binary_crossentropy', optimizer='adam',metrics=['accuracy'])"
   ]
  },
  {
   "cell_type": "code",
   "execution_count": 29,
   "metadata": {},
   "outputs": [
    {
     "name": "stdout",
     "output_type": "stream",
     "text": [
      "Train on 87554 samples, validate on 21892 samples\n",
      "Epoch 1/100\n",
      "87554/87554 [==============================] - 4s 40us/step - loss: 0.4352 - accuracy: 0.7588 - val_loss: 0.3818 - val_accuracy: 0.7891\n",
      "Epoch 2/100\n",
      "87554/87554 [==============================] - 2s 23us/step - loss: 0.3734 - accuracy: 0.7971 - val_loss: 0.3569 - val_accuracy: 0.8078\n",
      "Epoch 3/100\n",
      "87554/87554 [==============================] - 2s 23us/step - loss: 0.3544 - accuracy: 0.8129 - val_loss: 0.3514 - val_accuracy: 0.8179\n",
      "Epoch 4/100\n",
      "87554/87554 [==============================] - 2s 23us/step - loss: 0.3494 - accuracy: 0.8174 - val_loss: 0.3374 - val_accuracy: 0.8252\n",
      "Epoch 5/100\n",
      "87554/87554 [==============================] - 2s 23us/step - loss: 0.3339 - accuracy: 0.8311 - val_loss: 0.3246 - val_accuracy: 0.8388\n",
      "Epoch 6/100\n",
      "87554/87554 [==============================] - 2s 23us/step - loss: 0.3245 - accuracy: 0.8384 - val_loss: 0.3191 - val_accuracy: 0.8438\n",
      "Epoch 7/100\n",
      "87554/87554 [==============================] - 2s 23us/step - loss: 0.3172 - accuracy: 0.8435 - val_loss: 0.3142 - val_accuracy: 0.8497\n",
      "Epoch 8/100\n",
      "87554/87554 [==============================] - 2s 23us/step - loss: 0.3173 - accuracy: 0.8440 - val_loss: 0.3070 - val_accuracy: 0.8526\n",
      "Epoch 9/100\n",
      "87554/87554 [==============================] - 2s 23us/step - loss: 0.3104 - accuracy: 0.8489 - val_loss: 0.3064 - val_accuracy: 0.8549\n",
      "Epoch 10/100\n",
      "87554/87554 [==============================] - 2s 23us/step - loss: 0.3045 - accuracy: 0.8536 - val_loss: 0.2999 - val_accuracy: 0.8607\n",
      "Epoch 11/100\n",
      "87554/87554 [==============================] - 2s 23us/step - loss: 0.2973 - accuracy: 0.8584 - val_loss: 0.2972 - val_accuracy: 0.8603\n",
      "Epoch 12/100\n",
      "87554/87554 [==============================] - 2s 24us/step - loss: 0.2989 - accuracy: 0.8562 - val_loss: 0.3077 - val_accuracy: 0.8461\n",
      "Epoch 13/100\n",
      "87554/87554 [==============================] - 2s 23us/step - loss: 0.3025 - accuracy: 0.8559 - val_loss: 0.2926 - val_accuracy: 0.8610\n",
      "Epoch 14/100\n",
      "87554/87554 [==============================] - 2s 24us/step - loss: 0.2895 - accuracy: 0.8632 - val_loss: 0.2978 - val_accuracy: 0.8574\n",
      "Epoch 15/100\n",
      "87554/87554 [==============================] - 2s 24us/step - loss: 0.2894 - accuracy: 0.8641 - val_loss: 0.2840 - val_accuracy: 0.8706\n",
      "Epoch 16/100\n",
      "87554/87554 [==============================] - 2s 23us/step - loss: 0.2850 - accuracy: 0.8666 - val_loss: 0.2833 - val_accuracy: 0.8692\n",
      "Epoch 17/100\n",
      "87554/87554 [==============================] - 2s 23us/step - loss: 0.2802 - accuracy: 0.8694 - val_loss: 0.2822 - val_accuracy: 0.8679\n",
      "Epoch 18/100\n",
      "87554/87554 [==============================] - 2s 23us/step - loss: 0.2799 - accuracy: 0.8687 - val_loss: 0.2805 - val_accuracy: 0.8744\n",
      "Epoch 19/100\n",
      "87554/87554 [==============================] - 2s 24us/step - loss: 0.2756 - accuracy: 0.8718 - val_loss: 0.2842 - val_accuracy: 0.8658\n",
      "Epoch 20/100\n",
      "87554/87554 [==============================] - 2s 23us/step - loss: 0.2760 - accuracy: 0.8719 - val_loss: 0.2758 - val_accuracy: 0.8737\n",
      "Epoch 21/100\n",
      "87554/87554 [==============================] - 2s 23us/step - loss: 0.2719 - accuracy: 0.8749 - val_loss: 0.2771 - val_accuracy: 0.8761\n",
      "Epoch 22/100\n",
      "87554/87554 [==============================] - 2s 25us/step - loss: 0.2732 - accuracy: 0.8734 - val_loss: 0.2735 - val_accuracy: 0.8744\n",
      "Epoch 23/100\n",
      "87554/87554 [==============================] - 2s 23us/step - loss: 0.2678 - accuracy: 0.8763 - val_loss: 0.2698 - val_accuracy: 0.8795\n",
      "Epoch 24/100\n",
      "87554/87554 [==============================] - 2s 23us/step - loss: 0.2682 - accuracy: 0.8772 - val_loss: 0.2734 - val_accuracy: 0.8753\n",
      "Epoch 25/100\n",
      "87554/87554 [==============================] - 2s 23us/step - loss: 0.2689 - accuracy: 0.8757 - val_loss: 0.2907 - val_accuracy: 0.8650\n",
      "Epoch 26/100\n",
      "87554/87554 [==============================] - 2s 24us/step - loss: 0.2695 - accuracy: 0.8752 - val_loss: 0.2703 - val_accuracy: 0.8761\n",
      "Epoch 27/100\n",
      "87554/87554 [==============================] - 2s 24us/step - loss: 0.2623 - accuracy: 0.8800 - val_loss: 0.2928 - val_accuracy: 0.8615\n",
      "Epoch 28/100\n",
      "87554/87554 [==============================] - 2s 24us/step - loss: 0.2749 - accuracy: 0.8733 - val_loss: 0.2737 - val_accuracy: 0.8734\n",
      "Epoch 29/100\n",
      "87554/87554 [==============================] - 2s 24us/step - loss: 0.2633 - accuracy: 0.8797 - val_loss: 0.2695 - val_accuracy: 0.8768\n",
      "Epoch 30/100\n",
      "87554/87554 [==============================] - 2s 24us/step - loss: 0.2585 - accuracy: 0.8831 - val_loss: 0.2647 - val_accuracy: 0.8808\n",
      "Epoch 31/100\n",
      "87554/87554 [==============================] - 2s 24us/step - loss: 0.2567 - accuracy: 0.8832 - val_loss: 0.2697 - val_accuracy: 0.8779\n",
      "Epoch 32/100\n",
      "87554/87554 [==============================] - 2s 24us/step - loss: 0.2560 - accuracy: 0.8827 - val_loss: 0.2667 - val_accuracy: 0.8795\n",
      "Epoch 33/100\n",
      "87554/87554 [==============================] - 2s 23us/step - loss: 0.2545 - accuracy: 0.8839 - val_loss: 0.2858 - val_accuracy: 0.8694\n",
      "Epoch 34/100\n",
      "87554/87554 [==============================] - 2s 24us/step - loss: 0.2597 - accuracy: 0.8815 - val_loss: 0.2619 - val_accuracy: 0.8832\n",
      "Epoch 35/100\n",
      "87554/87554 [==============================] - 2s 23us/step - loss: 0.2524 - accuracy: 0.8858 - val_loss: 0.2659 - val_accuracy: 0.8794\n",
      "Epoch 36/100\n",
      "87554/87554 [==============================] - 2s 23us/step - loss: 0.2615 - accuracy: 0.8799 - val_loss: 0.2666 - val_accuracy: 0.8793\n",
      "Epoch 37/100\n",
      "87554/87554 [==============================] - 2s 24us/step - loss: 0.2550 - accuracy: 0.8837 - val_loss: 0.2674 - val_accuracy: 0.8786\n",
      "Epoch 38/100\n",
      "87554/87554 [==============================] - 2s 24us/step - loss: 0.2506 - accuracy: 0.8870 - val_loss: 0.2678 - val_accuracy: 0.8773\n",
      "Epoch 39/100\n",
      "87554/87554 [==============================] - 2s 23us/step - loss: 0.2489 - accuracy: 0.8879 - val_loss: 0.2591 - val_accuracy: 0.8848\n",
      "Epoch 40/100\n",
      "87554/87554 [==============================] - 2s 24us/step - loss: 0.2476 - accuracy: 0.8879 - val_loss: 0.2602 - val_accuracy: 0.8825\n",
      "Epoch 41/100\n",
      "87554/87554 [==============================] - 2s 24us/step - loss: 0.2461 - accuracy: 0.8883 - val_loss: 0.2646 - val_accuracy: 0.8818\n",
      "Epoch 42/100\n",
      "87554/87554 [==============================] - 2s 23us/step - loss: 0.2456 - accuracy: 0.8888 - val_loss: 0.2626 - val_accuracy: 0.8829\n",
      "Epoch 43/100\n",
      "87554/87554 [==============================] - 2s 23us/step - loss: 0.2473 - accuracy: 0.8873 - val_loss: 0.2716 - val_accuracy: 0.8779\n",
      "Epoch 44/100\n",
      "87554/87554 [==============================] - 2s 23us/step - loss: 0.2470 - accuracy: 0.8892 - val_loss: 0.2637 - val_accuracy: 0.8784\n",
      "Epoch 45/100\n",
      "87554/87554 [==============================] - 2s 23us/step - loss: 0.2481 - accuracy: 0.8871 - val_loss: 0.2722 - val_accuracy: 0.8755\n",
      "Epoch 46/100\n",
      "87554/87554 [==============================] - 2s 23us/step - loss: 0.2532 - accuracy: 0.8845 - val_loss: 0.2690 - val_accuracy: 0.8770\n",
      "Epoch 47/100\n",
      "87554/87554 [==============================] - 2s 23us/step - loss: 0.2502 - accuracy: 0.8871 - val_loss: 0.2586 - val_accuracy: 0.8843\n",
      "Epoch 48/100\n",
      "87554/87554 [==============================] - 2s 23us/step - loss: 0.2416 - accuracy: 0.8916 - val_loss: 0.2899 - val_accuracy: 0.8578\n",
      "Epoch 49/100\n",
      "87554/87554 [==============================] - 2s 24us/step - loss: 0.2697 - accuracy: 0.8739 - val_loss: 0.2599 - val_accuracy: 0.8832\n",
      "Epoch 50/100\n",
      "87554/87554 [==============================] - 2s 23us/step - loss: 0.2499 - accuracy: 0.8857 - val_loss: 0.2637 - val_accuracy: 0.8804\n",
      "Epoch 51/100\n",
      "87554/87554 [==============================] - 2s 23us/step - loss: 0.2428 - accuracy: 0.8908 - val_loss: 0.2556 - val_accuracy: 0.8874\n",
      "Epoch 52/100\n",
      "87554/87554 [==============================] - 2s 23us/step - loss: 0.2395 - accuracy: 0.8922 - val_loss: 0.2533 - val_accuracy: 0.8874\n",
      "Epoch 53/100\n",
      "87554/87554 [==============================] - 2s 23us/step - loss: 0.2377 - accuracy: 0.8933 - val_loss: 0.2572 - val_accuracy: 0.8850\n",
      "Epoch 54/100\n",
      "87554/87554 [==============================] - 2s 24us/step - loss: 0.2392 - accuracy: 0.8928 - val_loss: 0.2569 - val_accuracy: 0.8842\n",
      "Epoch 55/100\n",
      "87554/87554 [==============================] - 2s 24us/step - loss: 0.2381 - accuracy: 0.8938 - val_loss: 0.2532 - val_accuracy: 0.8876\n"
     ]
    },
    {
     "name": "stdout",
     "output_type": "stream",
     "text": [
      "Epoch 56/100\n",
      "87554/87554 [==============================] - 2s 23us/step - loss: 0.2345 - accuracy: 0.8960 - val_loss: 0.2675 - val_accuracy: 0.8794\n",
      "Epoch 57/100\n",
      "87554/87554 [==============================] - 2s 24us/step - loss: 0.2442 - accuracy: 0.8905 - val_loss: 0.2638 - val_accuracy: 0.8807\n",
      "Epoch 58/100\n",
      "87554/87554 [==============================] - 2s 23us/step - loss: 0.2544 - accuracy: 0.8842 - val_loss: 0.2846 - val_accuracy: 0.8626\n",
      "Epoch 59/100\n",
      "87554/87554 [==============================] - 2s 23us/step - loss: 0.2788 - accuracy: 0.8714 - val_loss: 0.2617 - val_accuracy: 0.8843\n",
      "Epoch 60/100\n",
      "87554/87554 [==============================] - 2s 24us/step - loss: 0.2470 - accuracy: 0.8885 - val_loss: 0.2585 - val_accuracy: 0.8854\n",
      "Epoch 61/100\n",
      "87554/87554 [==============================] - 2s 23us/step - loss: 0.2466 - accuracy: 0.8886 - val_loss: 0.2582 - val_accuracy: 0.8851\n",
      "Epoch 62/100\n",
      "87554/87554 [==============================] - 2s 23us/step - loss: 0.2474 - accuracy: 0.8875 - val_loss: 0.2576 - val_accuracy: 0.8839\n",
      "Epoch 63/100\n",
      "87554/87554 [==============================] - 2s 23us/step - loss: 0.2366 - accuracy: 0.8947 - val_loss: 0.2572 - val_accuracy: 0.8869\n",
      "Epoch 64/100\n",
      "87554/87554 [==============================] - 2s 24us/step - loss: 0.2353 - accuracy: 0.8950 - val_loss: 0.2604 - val_accuracy: 0.8835\n",
      "Epoch 65/100\n",
      "87554/87554 [==============================] - 2s 24us/step - loss: 0.2373 - accuracy: 0.8944 - val_loss: 0.2542 - val_accuracy: 0.8876\n",
      "Epoch 66/100\n",
      "87554/87554 [==============================] - 2s 24us/step - loss: 0.2329 - accuracy: 0.8961 - val_loss: 0.2560 - val_accuracy: 0.8850\n",
      "Epoch 67/100\n",
      "87554/87554 [==============================] - 2s 26us/step - loss: 0.2357 - accuracy: 0.8946 - val_loss: 0.2547 - val_accuracy: 0.8865\n",
      "Epoch 68/100\n",
      "87554/87554 [==============================] - 2s 26us/step - loss: 0.2341 - accuracy: 0.8958 - val_loss: 0.2534 - val_accuracy: 0.8873\n",
      "Epoch 69/100\n",
      "87554/87554 [==============================] - 2s 24us/step - loss: 0.2318 - accuracy: 0.8959 - val_loss: 0.2551 - val_accuracy: 0.8859\n",
      "Epoch 70/100\n",
      "87554/87554 [==============================] - 2s 25us/step - loss: 0.2297 - accuracy: 0.8978 - val_loss: 0.2553 - val_accuracy: 0.8877\n",
      "Epoch 71/100\n",
      "87554/87554 [==============================] - 2s 27us/step - loss: 0.2309 - accuracy: 0.8971 - val_loss: 0.2589 - val_accuracy: 0.8853\n",
      "Epoch 72/100\n",
      "87554/87554 [==============================] - 2s 28us/step - loss: 0.2436 - accuracy: 0.8896 - val_loss: 0.2539 - val_accuracy: 0.8874\n",
      "Epoch 73/100\n",
      "87554/87554 [==============================] - 2s 26us/step - loss: 0.2296 - accuracy: 0.8977 - val_loss: 0.2555 - val_accuracy: 0.8889\n",
      "Epoch 74/100\n",
      "87554/87554 [==============================] - 2s 23us/step - loss: 0.2313 - accuracy: 0.8974 - val_loss: 0.2512 - val_accuracy: 0.8882\n",
      "Epoch 75/100\n",
      "87554/87554 [==============================] - 2s 24us/step - loss: 0.2275 - accuracy: 0.8981 - val_loss: 0.2591 - val_accuracy: 0.8860\n",
      "Epoch 76/100\n",
      "87554/87554 [==============================] - 2s 28us/step - loss: 0.2313 - accuracy: 0.8962 - val_loss: 0.2539 - val_accuracy: 0.8855\n",
      "Epoch 77/100\n",
      "87554/87554 [==============================] - 2s 28us/step - loss: 0.2271 - accuracy: 0.8987 - val_loss: 0.2564 - val_accuracy: 0.8860\n",
      "Epoch 78/100\n",
      "87554/87554 [==============================] - 2s 27us/step - loss: 0.2254 - accuracy: 0.9002 - val_loss: 0.2664 - val_accuracy: 0.8765\n",
      "Epoch 79/100\n",
      "87554/87554 [==============================] - 2s 24us/step - loss: 0.2361 - accuracy: 0.8940 - val_loss: 0.2678 - val_accuracy: 0.8824\n",
      "Epoch 80/100\n",
      "87554/87554 [==============================] - 2s 24us/step - loss: 0.2368 - accuracy: 0.8936 - val_loss: 0.2550 - val_accuracy: 0.8881\n",
      "Epoch 81/100\n",
      "87554/87554 [==============================] - 2s 25us/step - loss: 0.2260 - accuracy: 0.8989 - val_loss: 0.2525 - val_accuracy: 0.8888\n",
      "Epoch 82/100\n",
      "87554/87554 [==============================] - 2s 26us/step - loss: 0.2264 - accuracy: 0.8998 - val_loss: 0.2524 - val_accuracy: 0.8875\n",
      "Epoch 83/100\n",
      "87554/87554 [==============================] - 2s 25us/step - loss: 0.2282 - accuracy: 0.8985 - val_loss: 0.2668 - val_accuracy: 0.8796\n",
      "Epoch 84/100\n",
      "87554/87554 [==============================] - 2s 25us/step - loss: 0.2429 - accuracy: 0.8903 - val_loss: 0.2556 - val_accuracy: 0.8877\n",
      "Epoch 85/100\n",
      "87554/87554 [==============================] - 2s 24us/step - loss: 0.2303 - accuracy: 0.8981 - val_loss: 0.2537 - val_accuracy: 0.8882\n",
      "Epoch 86/100\n",
      "87554/87554 [==============================] - 2s 24us/step - loss: 0.2253 - accuracy: 0.8999 - val_loss: 0.2539 - val_accuracy: 0.8897\n",
      "Epoch 87/100\n",
      "87554/87554 [==============================] - 2s 24us/step - loss: 0.2231 - accuracy: 0.9007 - val_loss: 0.2733 - val_accuracy: 0.8798\n",
      "Epoch 88/100\n",
      "87554/87554 [==============================] - 2s 24us/step - loss: 0.2273 - accuracy: 0.8987 - val_loss: 0.2573 - val_accuracy: 0.8858\n",
      "Epoch 89/100\n",
      "87554/87554 [==============================] - 2s 24us/step - loss: 0.2239 - accuracy: 0.9013 - val_loss: 0.2492 - val_accuracy: 0.8905\n",
      "Epoch 90/100\n",
      "87554/87554 [==============================] - 2s 24us/step - loss: 0.2289 - accuracy: 0.8985 - val_loss: 0.2522 - val_accuracy: 0.8895\n",
      "Epoch 91/100\n",
      "87554/87554 [==============================] - 2s 24us/step - loss: 0.2234 - accuracy: 0.9013 - val_loss: 0.2531 - val_accuracy: 0.8882\n",
      "Epoch 92/100\n",
      "87554/87554 [==============================] - 2s 24us/step - loss: 0.2252 - accuracy: 0.9005 - val_loss: 0.2558 - val_accuracy: 0.8872\n",
      "Epoch 93/100\n",
      "87554/87554 [==============================] - 2s 24us/step - loss: 0.2230 - accuracy: 0.9014 - val_loss: 0.2613 - val_accuracy: 0.8865\n",
      "Epoch 94/100\n",
      "87554/87554 [==============================] - 2s 24us/step - loss: 0.2194 - accuracy: 0.9025 - val_loss: 0.2528 - val_accuracy: 0.8888\n",
      "Epoch 95/100\n",
      "87554/87554 [==============================] - 2s 25us/step - loss: 0.2185 - accuracy: 0.9030 - val_loss: 0.2514 - val_accuracy: 0.8923\n",
      "Epoch 96/100\n",
      "87554/87554 [==============================] - 2s 27us/step - loss: 0.2310 - accuracy: 0.8959 - val_loss: 0.2576 - val_accuracy: 0.8864\n",
      "Epoch 97/100\n",
      "87554/87554 [==============================] - 2s 26us/step - loss: 0.2215 - accuracy: 0.9019 - val_loss: 0.2537 - val_accuracy: 0.8883\n",
      "Epoch 98/100\n",
      "87554/87554 [==============================] - 2s 24us/step - loss: 0.2359 - accuracy: 0.8954 - val_loss: 0.2569 - val_accuracy: 0.8880\n",
      "Epoch 99/100\n",
      "87554/87554 [==============================] - 2s 25us/step - loss: 0.2251 - accuracy: 0.9000 - val_loss: 0.2517 - val_accuracy: 0.8910\n",
      "Epoch 100/100\n",
      "87554/87554 [==============================] - 2s 24us/step - loss: 0.2241 - accuracy: 0.8994 - val_loss: 0.2641 - val_accuracy: 0.8796\n"
     ]
    }
   ],
   "source": [
    "history = model_lstm.fit(x_train1, Y_train,validation_data=(x_test1,Y_test), epochs=100,batch_size=512)"
   ]
  },
  {
   "cell_type": "code",
   "execution_count": 30,
   "metadata": {
    "scrolled": true
   },
   "outputs": [
    {
     "name": "stdout",
     "output_type": "stream",
     "text": [
      "Model: \"sequential_1\"\n",
      "_________________________________________________________________\n",
      "Layer (type)                 Output Shape              Param #   \n",
      "=================================================================\n",
      "lstm_1 (LSTM)                (None, 125)               156500    \n",
      "_________________________________________________________________\n",
      "dropout_1 (Dropout)          (None, 125)               0         \n",
      "_________________________________________________________________\n",
      "dense_1 (Dense)              (None, 2)                 252       \n",
      "=================================================================\n",
      "Total params: 156,752\n",
      "Trainable params: 156,752\n",
      "Non-trainable params: 0\n",
      "_________________________________________________________________\n"
     ]
    }
   ],
   "source": [
    "model_lstm.summary()"
   ]
  },
  {
   "cell_type": "code",
   "execution_count": 31,
   "metadata": {},
   "outputs": [],
   "source": [
    "predictions=model_lstm.predict(x_test1)"
   ]
  },
  {
   "cell_type": "code",
   "execution_count": 32,
   "metadata": {},
   "outputs": [
    {
     "name": "stdout",
     "output_type": "stream",
     "text": [
      "              precision    recall  f1-score   support\n",
      "\n",
      "           0       0.83      0.83      0.83      7754\n",
      "           1       0.91      0.91      0.91     14138\n",
      "\n",
      "    accuracy                           0.88     21892\n",
      "   macro avg       0.87      0.87      0.87     21892\n",
      "weighted avg       0.88      0.88      0.88     21892\n",
      "\n"
     ]
    }
   ],
   "source": [
    "print(classification_report(Y_test.argmax(axis=1), predictions.argmax(axis=1)))"
   ]
  },
  {
   "cell_type": "code",
   "execution_count": 33,
   "metadata": {},
   "outputs": [
    {
     "data": {
      "image/png": "[encoded data removed]",
      "text/plain": [
       "<Figure size 720x360 with 1 Axes>"
      ]
     },
     "metadata": {},
     "output_type": "display_data"
    },
    {
     "data": {
      "image/png": "[encoded data removed]",
      "text/plain": [
       "<Figure size 720x360 with 1 Axes>"
      ]
     },
     "metadata": {},
     "output_type": "display_data"
    }
   ],
   "source": [
    "plt.figure(figsize=(10,5))\n",
    "plt.title('Loss / Accuracy')\n",
    "plt.plot(history.history['loss'], label='loss')\n",
    "plt.plot(history.history['accuracy'], label='train')\n",
    "plt.legend()\n",
    "plt.show()\n",
    "plt.figure(figsize=(10,5))\n",
    "plt.title('Loss / val_loss')\n",
    "plt.plot(history.history['loss'], label='train_loss')\n",
    "plt.plot(history.history['val_loss'], label='val_loss')\n",
    "plt.legend()\n",
    "plt.show()"
   ]
  },
  {
   "cell_type": "markdown",
   "metadata": {},
   "source": [
    "# Classification ECG either Tachycardia or Bradycardia"
   ]
  },
  {
   "cell_type": "code",
   "execution_count": 34,
   "metadata": {},
   "outputs": [
    {
     "data": {
      "text/plain": [
       "0       44358\n",
       "7500    12127\n",
       "3750     7982\n",
       "110       764\n",
       "108       731\n",
       "        ...  \n",
       "357         2\n",
       "441         1\n",
       "340         1\n",
       "535         1\n",
       "416         1\n",
       "Name: 188, Length: 131, dtype: int64"
      ]
     },
     "execution_count": 34,
     "metadata": {},
     "output_type": "execute_result"
    }
   ],
   "source": [
    "#Anormal : Heart rates <60 or > 100 + \"S\" , \"V\" , \"Q\" or \"F\" -> classe 1\n",
    "\n",
    "train[188].value_counts()"
   ]
  },
  {
   "cell_type": "code",
   "execution_count": 35,
   "metadata": {},
   "outputs": [
    {
     "name": "stderr",
     "output_type": "stream",
     "text": [
      "C:\\Users\\asus\\Anaconda3\\envs\\tensorflow\\lib\\site-packages\\ipykernel_launcher.py:12: SettingWithCopyWarning: \n",
      "A value is trying to be set on a copy of a slice from a DataFrame\n",
      "\n",
      "See the caveats in the documentation: https://pandas.pydata.org/pandas-docs/stable/user_guide/indexing.html#returning-a-view-versus-a-copy\n",
      "  if sys.path[0] == '':\n",
      "C:\\Users\\asus\\Anaconda3\\envs\\tensorflow\\lib\\site-packages\\ipykernel_launcher.py:9: SettingWithCopyWarning: \n",
      "A value is trying to be set on a copy of a slice from a DataFrame\n",
      "\n",
      "See the caveats in the documentation: https://pandas.pydata.org/pandas-docs/stable/user_guide/indexing.html#returning-a-view-versus-a-copy\n",
      "  if __name__ == '__main__':\n",
      "C:\\Users\\asus\\Anaconda3\\envs\\tensorflow\\lib\\site-packages\\ipykernel_launcher.py:5: SettingWithCopyWarning: \n",
      "A value is trying to be set on a copy of a slice from a DataFrame\n",
      "\n",
      "See the caveats in the documentation: https://pandas.pydata.org/pandas-docs/stable/user_guide/indexing.html#returning-a-view-versus-a-copy\n",
      "  \"\"\"\n",
      "C:\\Users\\asus\\Anaconda3\\envs\\tensorflow\\lib\\site-packages\\ipykernel_launcher.py:7: SettingWithCopyWarning: \n",
      "A value is trying to be set on a copy of a slice from a DataFrame\n",
      "\n",
      "See the caveats in the documentation: https://pandas.pydata.org/pandas-docs/stable/user_guide/indexing.html#returning-a-view-versus-a-copy\n",
      "  import sys\n"
     ]
    }
   ],
   "source": [
    "for i in range(len(data)):\n",
    "    if data[187][i] != 0 :\n",
    "        # all signaux abnormal I classifie to class 0 ,1 or 2\n",
    "        if data[188][i] < 60 :\n",
    "            data[188][i]=1\n",
    "        elif data[188][i] < 100:\n",
    "            data[188][i]=0\n",
    "        else :\n",
    "            data[188][i]=2\n",
    "    else :\n",
    "        #all signaux normal it's classifie to normal beats \n",
    "        data[188][i]=0 "
   ]
  },
  {
   "cell_type": "code",
   "execution_count": 36,
   "metadata": {},
   "outputs": [
    {
     "data": {
      "text/plain": [
       "0    36494\n",
       "2    32332\n",
       "1    18728\n",
       "Name: 188, dtype: int64"
      ]
     },
     "execution_count": 36,
     "metadata": {},
     "output_type": "execute_result"
    }
   ],
   "source": [
    "data[188].value_counts()"
   ]
  },
  {
   "cell_type": "code",
   "execution_count": 37,
   "metadata": {},
   "outputs": [],
   "source": [
    "from sklearn.utils import resample\n",
    "\n",
    "df11 =data[data[188]==1]\n",
    "df22=data[data[188]==2] \n",
    "df_1_upsample=resample(df11,replace=True,n_samples=20000,random_state=123)\n",
    "df_2_upsample=resample(df22,replace=True,n_samples=20000,random_state=124)\n",
    "train_df=pd.concat([df_1_upsample,df_2_upsample])"
   ]
  },
  {
   "cell_type": "code",
   "execution_count": 38,
   "metadata": {},
   "outputs": [
    {
     "name": "stdout",
     "output_type": "stream",
     "text": [
      "2    20000\n",
      "1    20000\n",
      "Name: 188, dtype: int64\n"
     ]
    }
   ],
   "source": [
    "equilibre=train_df[188].value_counts()\n",
    "print(equilibre)"
   ]
  },
  {
   "cell_type": "code",
   "execution_count": 39,
   "metadata": {},
   "outputs": [
    {
     "data": {
      "text/html": [
       "<div>\n",
       "<style scoped>\n",
       "    .dataframe tbody tr th:only-of-type {\n",
       "        vertical-align: middle;\n",
       "    }\n",
       "\n",
       "    .dataframe tbody tr th {\n",
       "        vertical-align: top;\n",
       "    }\n",
       "\n",
       "    .dataframe thead th {\n",
       "        text-align: right;\n",
       "    }\n",
       "</style>\n",
       "<table border=\"1\" class=\"dataframe\">\n",
       "  <thead>\n",
       "    <tr style=\"text-align: right;\">\n",
       "      <th></th>\n",
       "      <th>0</th>\n",
       "      <th>1</th>\n",
       "      <th>2</th>\n",
       "      <th>3</th>\n",
       "      <th>4</th>\n",
       "      <th>5</th>\n",
       "      <th>6</th>\n",
       "      <th>7</th>\n",
       "      <th>8</th>\n",
       "      <th>9</th>\n",
       "      <th>...</th>\n",
       "      <th>179</th>\n",
       "      <th>180</th>\n",
       "      <th>181</th>\n",
       "      <th>182</th>\n",
       "      <th>183</th>\n",
       "      <th>184</th>\n",
       "      <th>185</th>\n",
       "      <th>186</th>\n",
       "      <th>187</th>\n",
       "      <th>188</th>\n",
       "    </tr>\n",
       "  </thead>\n",
       "  <tbody>\n",
       "    <tr>\n",
       "      <th>0</th>\n",
       "      <td>0.977941</td>\n",
       "      <td>0.926471</td>\n",
       "      <td>0.681373</td>\n",
       "      <td>0.245098</td>\n",
       "      <td>0.154412</td>\n",
       "      <td>0.191176</td>\n",
       "      <td>0.151961</td>\n",
       "      <td>0.085784</td>\n",
       "      <td>0.058824</td>\n",
       "      <td>0.049020</td>\n",
       "      <td>...</td>\n",
       "      <td>0.0</td>\n",
       "      <td>0.0</td>\n",
       "      <td>0.0</td>\n",
       "      <td>0.0</td>\n",
       "      <td>0.0</td>\n",
       "      <td>0.0</td>\n",
       "      <td>0.0</td>\n",
       "      <td>0.0</td>\n",
       "      <td>0</td>\n",
       "      <td>0</td>\n",
       "    </tr>\n",
       "    <tr>\n",
       "      <th>1</th>\n",
       "      <td>0.960114</td>\n",
       "      <td>0.863248</td>\n",
       "      <td>0.461538</td>\n",
       "      <td>0.196581</td>\n",
       "      <td>0.094017</td>\n",
       "      <td>0.125356</td>\n",
       "      <td>0.099715</td>\n",
       "      <td>0.088319</td>\n",
       "      <td>0.074074</td>\n",
       "      <td>0.082621</td>\n",
       "      <td>...</td>\n",
       "      <td>0.0</td>\n",
       "      <td>0.0</td>\n",
       "      <td>0.0</td>\n",
       "      <td>0.0</td>\n",
       "      <td>0.0</td>\n",
       "      <td>0.0</td>\n",
       "      <td>0.0</td>\n",
       "      <td>0.0</td>\n",
       "      <td>1</td>\n",
       "      <td>2</td>\n",
       "    </tr>\n",
       "    <tr>\n",
       "      <th>2</th>\n",
       "      <td>1.000000</td>\n",
       "      <td>0.659459</td>\n",
       "      <td>0.186486</td>\n",
       "      <td>0.070270</td>\n",
       "      <td>0.070270</td>\n",
       "      <td>0.059459</td>\n",
       "      <td>0.056757</td>\n",
       "      <td>0.043243</td>\n",
       "      <td>0.054054</td>\n",
       "      <td>0.045946</td>\n",
       "      <td>...</td>\n",
       "      <td>0.0</td>\n",
       "      <td>0.0</td>\n",
       "      <td>0.0</td>\n",
       "      <td>0.0</td>\n",
       "      <td>0.0</td>\n",
       "      <td>0.0</td>\n",
       "      <td>0.0</td>\n",
       "      <td>0.0</td>\n",
       "      <td>0</td>\n",
       "      <td>0</td>\n",
       "    </tr>\n",
       "    <tr>\n",
       "      <th>3</th>\n",
       "      <td>0.925414</td>\n",
       "      <td>0.665746</td>\n",
       "      <td>0.541436</td>\n",
       "      <td>0.276243</td>\n",
       "      <td>0.196133</td>\n",
       "      <td>0.077348</td>\n",
       "      <td>0.071823</td>\n",
       "      <td>0.060773</td>\n",
       "      <td>0.066298</td>\n",
       "      <td>0.058011</td>\n",
       "      <td>...</td>\n",
       "      <td>0.0</td>\n",
       "      <td>0.0</td>\n",
       "      <td>0.0</td>\n",
       "      <td>0.0</td>\n",
       "      <td>0.0</td>\n",
       "      <td>0.0</td>\n",
       "      <td>0.0</td>\n",
       "      <td>0.0</td>\n",
       "      <td>1</td>\n",
       "      <td>2</td>\n",
       "    </tr>\n",
       "    <tr>\n",
       "      <th>4</th>\n",
       "      <td>0.967136</td>\n",
       "      <td>1.000000</td>\n",
       "      <td>0.830986</td>\n",
       "      <td>0.586854</td>\n",
       "      <td>0.356808</td>\n",
       "      <td>0.248826</td>\n",
       "      <td>0.145540</td>\n",
       "      <td>0.089202</td>\n",
       "      <td>0.117371</td>\n",
       "      <td>0.150235</td>\n",
       "      <td>...</td>\n",
       "      <td>0.0</td>\n",
       "      <td>0.0</td>\n",
       "      <td>0.0</td>\n",
       "      <td>0.0</td>\n",
       "      <td>0.0</td>\n",
       "      <td>0.0</td>\n",
       "      <td>0.0</td>\n",
       "      <td>0.0</td>\n",
       "      <td>0</td>\n",
       "      <td>0</td>\n",
       "    </tr>\n",
       "    <tr>\n",
       "      <th>...</th>\n",
       "      <td>...</td>\n",
       "      <td>...</td>\n",
       "      <td>...</td>\n",
       "      <td>...</td>\n",
       "      <td>...</td>\n",
       "      <td>...</td>\n",
       "      <td>...</td>\n",
       "      <td>...</td>\n",
       "      <td>...</td>\n",
       "      <td>...</td>\n",
       "      <td>...</td>\n",
       "      <td>...</td>\n",
       "      <td>...</td>\n",
       "      <td>...</td>\n",
       "      <td>...</td>\n",
       "      <td>...</td>\n",
       "      <td>...</td>\n",
       "      <td>...</td>\n",
       "      <td>...</td>\n",
       "      <td>...</td>\n",
       "      <td>...</td>\n",
       "    </tr>\n",
       "    <tr>\n",
       "      <th>87549</th>\n",
       "      <td>0.807018</td>\n",
       "      <td>0.494737</td>\n",
       "      <td>0.536842</td>\n",
       "      <td>0.529825</td>\n",
       "      <td>0.491228</td>\n",
       "      <td>0.484211</td>\n",
       "      <td>0.456140</td>\n",
       "      <td>0.396491</td>\n",
       "      <td>0.284211</td>\n",
       "      <td>0.136842</td>\n",
       "      <td>...</td>\n",
       "      <td>0.0</td>\n",
       "      <td>0.0</td>\n",
       "      <td>0.0</td>\n",
       "      <td>0.0</td>\n",
       "      <td>0.0</td>\n",
       "      <td>0.0</td>\n",
       "      <td>0.0</td>\n",
       "      <td>0.0</td>\n",
       "      <td>1</td>\n",
       "      <td>1</td>\n",
       "    </tr>\n",
       "    <tr>\n",
       "      <th>87550</th>\n",
       "      <td>0.718333</td>\n",
       "      <td>0.605000</td>\n",
       "      <td>0.486667</td>\n",
       "      <td>0.361667</td>\n",
       "      <td>0.231667</td>\n",
       "      <td>0.120000</td>\n",
       "      <td>0.051667</td>\n",
       "      <td>0.001667</td>\n",
       "      <td>0.000000</td>\n",
       "      <td>0.013333</td>\n",
       "      <td>...</td>\n",
       "      <td>0.0</td>\n",
       "      <td>0.0</td>\n",
       "      <td>0.0</td>\n",
       "      <td>0.0</td>\n",
       "      <td>0.0</td>\n",
       "      <td>0.0</td>\n",
       "      <td>0.0</td>\n",
       "      <td>0.0</td>\n",
       "      <td>1</td>\n",
       "      <td>0</td>\n",
       "    </tr>\n",
       "    <tr>\n",
       "      <th>87551</th>\n",
       "      <td>0.906122</td>\n",
       "      <td>0.624490</td>\n",
       "      <td>0.595918</td>\n",
       "      <td>0.575510</td>\n",
       "      <td>0.530612</td>\n",
       "      <td>0.481633</td>\n",
       "      <td>0.444898</td>\n",
       "      <td>0.387755</td>\n",
       "      <td>0.322449</td>\n",
       "      <td>0.191837</td>\n",
       "      <td>...</td>\n",
       "      <td>0.0</td>\n",
       "      <td>0.0</td>\n",
       "      <td>0.0</td>\n",
       "      <td>0.0</td>\n",
       "      <td>0.0</td>\n",
       "      <td>0.0</td>\n",
       "      <td>0.0</td>\n",
       "      <td>0.0</td>\n",
       "      <td>1</td>\n",
       "      <td>0</td>\n",
       "    </tr>\n",
       "    <tr>\n",
       "      <th>87552</th>\n",
       "      <td>0.858228</td>\n",
       "      <td>0.645570</td>\n",
       "      <td>0.845570</td>\n",
       "      <td>0.248101</td>\n",
       "      <td>0.167089</td>\n",
       "      <td>0.131646</td>\n",
       "      <td>0.121519</td>\n",
       "      <td>0.121519</td>\n",
       "      <td>0.118987</td>\n",
       "      <td>0.103797</td>\n",
       "      <td>...</td>\n",
       "      <td>0.0</td>\n",
       "      <td>0.0</td>\n",
       "      <td>0.0</td>\n",
       "      <td>0.0</td>\n",
       "      <td>0.0</td>\n",
       "      <td>0.0</td>\n",
       "      <td>0.0</td>\n",
       "      <td>0.0</td>\n",
       "      <td>1</td>\n",
       "      <td>0</td>\n",
       "    </tr>\n",
       "    <tr>\n",
       "      <th>87553</th>\n",
       "      <td>0.901506</td>\n",
       "      <td>0.845886</td>\n",
       "      <td>0.800695</td>\n",
       "      <td>0.748552</td>\n",
       "      <td>0.687138</td>\n",
       "      <td>0.599073</td>\n",
       "      <td>0.512167</td>\n",
       "      <td>0.427578</td>\n",
       "      <td>0.395133</td>\n",
       "      <td>0.402086</td>\n",
       "      <td>...</td>\n",
       "      <td>0.0</td>\n",
       "      <td>0.0</td>\n",
       "      <td>0.0</td>\n",
       "      <td>0.0</td>\n",
       "      <td>0.0</td>\n",
       "      <td>0.0</td>\n",
       "      <td>0.0</td>\n",
       "      <td>0.0</td>\n",
       "      <td>1</td>\n",
       "      <td>0</td>\n",
       "    </tr>\n",
       "  </tbody>\n",
       "</table>\n",
       "<p>87554 rows × 189 columns</p>\n",
       "</div>"
      ],
      "text/plain": [
       "            0         1         2         3         4         5         6    \\\n",
       "0      0.977941  0.926471  0.681373  0.245098  0.154412  0.191176  0.151961   \n",
       "1      0.960114  0.863248  0.461538  0.196581  0.094017  0.125356  0.099715   \n",
       "2      1.000000  0.659459  0.186486  0.070270  0.070270  0.059459  0.056757   \n",
       "3      0.925414  0.665746  0.541436  0.276243  0.196133  0.077348  0.071823   \n",
       "4      0.967136  1.000000  0.830986  0.586854  0.356808  0.248826  0.145540   \n",
       "...         ...       ...       ...       ...       ...       ...       ...   \n",
       "87549  0.807018  0.494737  0.536842  0.529825  0.491228  0.484211  0.456140   \n",
       "87550  0.718333  0.605000  0.486667  0.361667  0.231667  0.120000  0.051667   \n",
       "87551  0.906122  0.624490  0.595918  0.575510  0.530612  0.481633  0.444898   \n",
       "87552  0.858228  0.645570  0.845570  0.248101  0.167089  0.131646  0.121519   \n",
       "87553  0.901506  0.845886  0.800695  0.748552  0.687138  0.599073  0.512167   \n",
       "\n",
       "            7         8         9    ...  179  180  181  182  183  184  185  \\\n",
       "0      0.085784  0.058824  0.049020  ...  0.0  0.0  0.0  0.0  0.0  0.0  0.0   \n",
       "1      0.088319  0.074074  0.082621  ...  0.0  0.0  0.0  0.0  0.0  0.0  0.0   \n",
       "2      0.043243  0.054054  0.045946  ...  0.0  0.0  0.0  0.0  0.0  0.0  0.0   \n",
       "3      0.060773  0.066298  0.058011  ...  0.0  0.0  0.0  0.0  0.0  0.0  0.0   \n",
       "4      0.089202  0.117371  0.150235  ...  0.0  0.0  0.0  0.0  0.0  0.0  0.0   \n",
       "...         ...       ...       ...  ...  ...  ...  ...  ...  ...  ...  ...   \n",
       "87549  0.396491  0.284211  0.136842  ...  0.0  0.0  0.0  0.0  0.0  0.0  0.0   \n",
       "87550  0.001667  0.000000  0.013333  ...  0.0  0.0  0.0  0.0  0.0  0.0  0.0   \n",
       "87551  0.387755  0.322449  0.191837  ...  0.0  0.0  0.0  0.0  0.0  0.0  0.0   \n",
       "87552  0.121519  0.118987  0.103797  ...  0.0  0.0  0.0  0.0  0.0  0.0  0.0   \n",
       "87553  0.427578  0.395133  0.402086  ...  0.0  0.0  0.0  0.0  0.0  0.0  0.0   \n",
       "\n",
       "       186  187  188  \n",
       "0      0.0    0    0  \n",
       "1      0.0    1    2  \n",
       "2      0.0    0    0  \n",
       "3      0.0    1    2  \n",
       "4      0.0    0    0  \n",
       "...    ...  ...  ...  \n",
       "87549  0.0    1    1  \n",
       "87550  0.0    1    0  \n",
       "87551  0.0    1    0  \n",
       "87552  0.0    1    0  \n",
       "87553  0.0    1    0  \n",
       "\n",
       "[87554 rows x 189 columns]"
      ]
     },
     "execution_count": 39,
     "metadata": {},
     "output_type": "execute_result"
    }
   ],
   "source": [
    "data"
   ]
  },
  {
   "cell_type": "code",
   "execution_count": 40,
   "metadata": {},
   "outputs": [
    {
     "data": {
      "image/png": "[encoded data removed]",
      "text/plain": [
       "<Figure size 1440x720 with 1 Axes>"
      ]
     },
     "metadata": {},
     "output_type": "display_data"
    }
   ],
   "source": [
    "plt.figure(figsize=(20,10))\n",
    "my_circle=plt.Circle( (0,0), 0.7, color='white')\n",
    "plt.pie(equilibre, labels=['Tachycardia','Bradycardia'], colors=['red','blue'],autopct='%1.1f%%')\n",
    "p=plt.gcf()\n",
    "p.gca().add_artist(my_circle)\n",
    "plt.show()"
   ]
  },
  {
   "cell_type": "code",
   "execution_count": 41,
   "metadata": {},
   "outputs": [],
   "source": [
    "df_train1, df_test1 = train_test_split(train_df, test_size=0.2, random_state=42, stratify=train_df[188])"
   ]
  },
  {
   "cell_type": "code",
   "execution_count": 42,
   "metadata": {},
   "outputs": [
    {
     "name": "stdout",
     "output_type": "stream",
     "text": [
      "train shape :  (32000, 189)\n",
      "test shape :  (8000, 189)\n",
      "feature_train shape :  (32000, 187)\n",
      "labels_train shape :  (32000,)\n",
      "feature_test shape :  (8000, 187)\n",
      "labels_test shape :  (8000,)\n"
     ]
    }
   ],
   "source": [
    "print(\"train shape : \",df_train1.shape)\n",
    "print(\"test shape : \",df_test1.shape)\n",
    "\n",
    "feature_train1=df_train1.iloc[:,0:187] \n",
    "#feature_train=train.iloc[:,3] \n",
    "print(\"feature_train shape : \",feature_train1.shape)\n",
    "\n",
    "labels_train1=df_train1.iloc[:,188] \n",
    "print(\"labels_train shape : \",labels_train1.shape)\n",
    "\n",
    "feature_test1=df_test1.iloc[:,0:187] \n",
    "#feature_test=test.iloc[:,3] \n",
    "print(\"feature_test shape : \",feature_test1.shape)\n",
    "\n",
    "labels_test1=df_test1.iloc[:,188] \n",
    "print(\"labels_test shape : \",labels_test1.shape)"
   ]
  },
  {
   "cell_type": "code",
   "execution_count": 43,
   "metadata": {},
   "outputs": [
    {
     "name": "stdout",
     "output_type": "stream",
     "text": [
      "(32000, 187)\n",
      "(8000, 187)\n"
     ]
    }
   ],
   "source": [
    "from sklearn.preprocessing import StandardScaler\n",
    "standardized_training_data=StandardScaler().fit_transform(feature_train1)\n",
    "feature_train1=standardized_training_data\n",
    "print(feature_train1.shape)\n",
    "\n",
    "standardized_test_data=StandardScaler().fit_transform(feature_test1)\n",
    "feature_test1=standardized_test_data\n",
    "print(feature_test1.shape)"
   ]
  },
  {
   "cell_type": "code",
   "execution_count": 44,
   "metadata": {},
   "outputs": [],
   "source": [
    "x_train2=feature_train1\n",
    "x_test2=feature_test1\n",
    "y_train2=labels_train1\n",
    "y_test2=labels_test1"
   ]
  },
  {
   "cell_type": "code",
   "execution_count": 45,
   "metadata": {},
   "outputs": [
    {
     "name": "stdout",
     "output_type": "stream",
     "text": [
      "(32000, 187) (32000,)\n"
     ]
    }
   ],
   "source": [
    "print(x_train2.shape,y_train2.shape)"
   ]
  },
  {
   "cell_type": "code",
   "execution_count": 46,
   "metadata": {},
   "outputs": [
    {
     "name": "stdout",
     "output_type": "stream",
     "text": [
      "(32000, 3) (8000, 3)\n"
     ]
    }
   ],
   "source": [
    "from keras.utils import np_utils\n",
    "from keras.utils.np_utils import to_categorical\n",
    "target_train=df_train1[188]\n",
    "target_test=df_test1[188]\n",
    "Y_train2=to_categorical(target_train)\n",
    "Y_test2=to_categorical(target_test)\n",
    "print(Y_train2.shape,Y_test2.shape)"
   ]
  },
  {
   "cell_type": "code",
   "execution_count": 47,
   "metadata": {},
   "outputs": [
    {
     "data": {
      "text/plain": [
       "2    16000\n",
       "1    16000\n",
       "Name: 188, dtype: int64"
      ]
     },
     "execution_count": 47,
     "metadata": {},
     "output_type": "execute_result"
    }
   ],
   "source": [
    "df_train1[188].value_counts()"
   ]
  },
  {
   "cell_type": "markdown",
   "metadata": {},
   "source": [
    "## Create BiLSTM model \n"
   ]
  },
  {
   "cell_type": "markdown",
   "metadata": {},
   "source": [
    " I'm using the embedding layer  for taking just the abnormal signals  and classify them as signals bradycardia or tachycardia"
   ]
  },
  {
   "cell_type": "code",
   "execution_count": 49,
   "metadata": {},
   "outputs": [],
   "source": [
    "MAX_SEQUENCE_LENGTH = 187\n",
    "EMBEDDING_DIM = 186\n",
    "VALIDATION_SPLIT = 0.2\n",
    "\n",
    "output_dim = 3\n",
    "input_dim = feature_train.shape[1]\n",
    "embedding_matrix = np.random.random((len(df_train1),EMBEDDING_DIM)) \n",
    "x1 =df_train1[df_train1[187]!= 0]\n",
    "for i in range(len(x1)):\n",
    "    embedding_matrix[i]=x1.iloc[i,:186]"
   ]
  },
  {
   "cell_type": "code",
   "execution_count": 51,
   "metadata": {},
   "outputs": [
    {
     "name": "stdout",
     "output_type": "stream",
     "text": [
      "Model: \"sequential_3\"\n",
      "_________________________________________________________________\n",
      "Layer (type)                 Output Shape              Param #   \n",
      "=================================================================\n",
      "embedding_1 (Embedding)      (None, 187, 186)          5952000   \n",
      "_________________________________________________________________\n",
      "bidirectional_1 (Bidirection (None, 250)               312000    \n",
      "_________________________________________________________________\n",
      "dense_2 (Dense)              (None, 3)                 753       \n",
      "=================================================================\n",
      "Total params: 6,264,753\n",
      "Trainable params: 6,264,753\n",
      "Non-trainable params: 0\n",
      "_________________________________________________________________\n"
     ]
    }
   ],
   "source": [
    "model = Sequential()\n",
    "model.add(Embedding(len(df_train1),\n",
    "                    186,\n",
    "                    weights = [embedding_matrix],\n",
    "                    input_length=MAX_SEQUENCE_LENGTH,\n",
    "                    trainable = True))\n",
    "model.add(Bidirectional(LSTM(125)))\n",
    "model.add(Dense(output_dim, input_dim=input_dim, activation='sigmoid'))\n",
    "model.compile(loss='binary_crossentropy', optimizer='adam',metrics=['accuracy'])\n",
    "\n",
    "model.summary()"
   ]
  },
  {
   "cell_type": "code",
   "execution_count": 52,
   "metadata": {},
   "outputs": [
    {
     "name": "stdout",
     "output_type": "stream",
     "text": [
      "Num GPUs Available:  1\n",
      "model fitting - Bidirectional LSTM\n",
      "----------The fitting process is ignored here.\n"
     ]
    },
    {
     "name": "stderr",
     "output_type": "stream",
     "text": [
      "C:\\Users\\asus\\Anaconda3\\envs\\tensorflow\\lib\\site-packages\\tensorflow_core\\python\\framework\\indexed_slices.py:424: UserWarning: Converting sparse IndexedSlices to a dense Tensor of unknown shape. This may consume a large amount of memory.\n",
      "  \"Converting sparse IndexedSlices to a dense Tensor of unknown shape. \"\n"
     ]
    },
    {
     "name": "stdout",
     "output_type": "stream",
     "text": [
      "Train on 32000 samples, validate on 8000 samples\n",
      "Epoch 1/10\n",
      "32000/32000 [==============================] - 63s 2ms/step - loss: 0.4591 - accuracy: 0.7026 - val_loss: 0.4334 - val_accuracy: 0.7213\n",
      "Epoch 2/10\n",
      "32000/32000 [==============================] - 61s 2ms/step - loss: 0.4239 - accuracy: 0.7426 - val_loss: 0.4088 - val_accuracy: 0.7753\n",
      "Epoch 3/10\n",
      "32000/32000 [==============================] - 61s 2ms/step - loss: 0.3996 - accuracy: 0.7734 - val_loss: 0.3872 - val_accuracy: 0.7874\n",
      "Epoch 4/10\n",
      "32000/32000 [==============================] - 62s 2ms/step - loss: 0.3869 - accuracy: 0.7899 - val_loss: 0.3748 - val_accuracy: 0.8176\n",
      "Epoch 5/10\n",
      "32000/32000 [==============================] - 62s 2ms/step - loss: 0.3540 - accuracy: 0.8257 - val_loss: 0.3378 - val_accuracy: 0.8382\n",
      "Epoch 6/10\n",
      "32000/32000 [==============================] - 62s 2ms/step - loss: 0.3388 - accuracy: 0.8356 - val_loss: 0.3319 - val_accuracy: 0.8427\n",
      "Epoch 7/10\n",
      "32000/32000 [==============================] - 62s 2ms/step - loss: 0.3222 - accuracy: 0.8451 - val_loss: 0.3265 - val_accuracy: 0.8396\n",
      "Epoch 8/10\n",
      "32000/32000 [==============================] - 61s 2ms/step - loss: 0.3192 - accuracy: 0.8454 - val_loss: 0.3155 - val_accuracy: 0.8473\n",
      "Epoch 9/10\n",
      "32000/32000 [==============================] - 61s 2ms/step - loss: 0.3133 - accuracy: 0.8482 - val_loss: 0.3109 - val_accuracy: 0.8502\n",
      "Epoch 10/10\n",
      "32000/32000 [==============================] - 61s 2ms/step - loss: 0.3091 - accuracy: 0.8493 - val_loss: 0.3062 - val_accuracy: 0.8517\n"
     ]
    }
   ],
   "source": [
    "import tensorflow as tf\n",
    "print(\"Num GPUs Available: \", len(tf.config.experimental.list_physical_devices('GPU')))\n",
    "print(\"model fitting - Bidirectional LSTM\")\n",
    "print(\"----------The fitting process is ignored here.\")\n",
    "hist=model.fit(x_train2, Y_train2, \n",
    "          validation_data=(x_test2,Y_test2),\n",
    "          epochs=10,batch_size=512)"
   ]
  },
  {
   "cell_type": "code",
   "execution_count": 54,
   "metadata": {},
   "outputs": [
    {
     "data": {
      "image/png": "[encoded data removed]",
      "text/plain": [
       "<Figure size 720x360 with 1 Axes>"
      ]
     },
     "metadata": {},
     "output_type": "display_data"
    },
    {
     "data": {
      "image/png": "[encoded data removed]",
      "text/plain": [
       "<Figure size 720x360 with 1 Axes>"
      ]
     },
     "metadata": {},
     "output_type": "display_data"
    }
   ],
   "source": [
    "plt.figure(figsize=(10,5))\n",
    "plt.title('Loss / Accuracy')\n",
    "plt.plot(hist.history['loss'], label='loss')\n",
    "plt.plot(hist.history['accuracy'], label='train')\n",
    "plt.legend()\n",
    "plt.show()\n",
    "plt.figure(figsize=(10,5))\n",
    "plt.title('Loss / val_loss')\n",
    "plt.plot(hist.history['loss'], label='train_loss')\n",
    "plt.plot(hist.history['val_loss'], label='val_loss')\n",
    "plt.legend()\n",
    "plt.show()"
   ]
  },
  {
   "cell_type": "code",
   "execution_count": 58,
   "metadata": {},
   "outputs": [],
   "source": [
    "pred_test = model.predict(x_test2) \n",
    "pred_test = (pred_test>0.5).astype(np.int8)"
   ]
  },
  {
   "cell_type": "code",
   "execution_count": 55,
   "metadata": {},
   "outputs": [
    {
     "name": "stdout",
     "output_type": "stream",
     "text": [
      "Test accuracy score : 0.769375 \n"
     ]
    }
   ],
   "source": [
    "from sklearn.metrics import accuracy_score, f1_score\n",
    "from sklearn.model_selection import train_test_split\n",
    "acc = accuracy_score(Y_test2, pred_test)\n",
    "print(\"Test accuracy score : %s \"% acc)"
   ]
  },
  {
   "cell_type": "code",
   "execution_count": 56,
   "metadata": {},
   "outputs": [
    {
     "data": {
      "text/plain": [
       "array([[0, 0, 1],\n",
       "       [0, 0, 1],\n",
       "       [0, 0, 1],\n",
       "       ...,\n",
       "       [0, 0, 1],\n",
       "       [0, 0, 1],\n",
       "       [0, 1, 0]], dtype=int8)"
      ]
     },
     "execution_count": 56,
     "metadata": {},
     "output_type": "execute_result"
    }
   ],
   "source": [
    "pred_test"
   ]
  },
  {
   "cell_type": "code",
   "execution_count": 57,
   "metadata": {},
   "outputs": [
    {
     "data": {
      "text/plain": [
       "array([[0., 0., 1.],\n",
       "       [0., 1., 0.],\n",
       "       [0., 0., 1.],\n",
       "       ...,\n",
       "       [0., 0., 1.],\n",
       "       [0., 0., 1.],\n",
       "       [0., 1., 0.]], dtype=float32)"
      ]
     },
     "execution_count": 57,
     "metadata": {},
     "output_type": "execute_result"
    }
   ],
   "source": [
    "Y_test2"
   ]
  },
  {
   "cell_type": "markdown",
   "metadata": {},
   "source": [
    "\n",
    "<br> Realized by : <i> Bouifalioune Hind </i> \n",
    "<br> Email : Hd.bouifalioune@gmail.com"
   ]
  },
  {
   "cell_type": "code",
   "execution_count": null,
   "metadata": {},
   "outputs": [],
   "source": []
  }
 ],
 "metadata": {
  "kernelspec": {
   "display_name": "Python 3",
   "language": "python",
   "name": "python3"
  },
  "language_info": {
   "codemirror_mode": {
    "name": "ipython",
    "version": 3
   },
   "file_extension": ".py",
   "mimetype": "text/x-python",
   "name": "python",
   "nbconvert_exporter": "python",
   "pygments_lexer": "ipython3",
   "version": "3.6.10"
  }
 },
 "nbformat": 4,
 "nbformat_minor": 4
}
