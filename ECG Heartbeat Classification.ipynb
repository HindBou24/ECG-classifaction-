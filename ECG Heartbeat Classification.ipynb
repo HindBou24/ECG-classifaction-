{
  "nbformat": 4,
  "nbformat_minor": 0,
  "metadata": {
    "colab": {
      "name": "Untitled10.ipynb",
      "provenance": []
    },
    "kernelspec": {
      "name": "python3",
      "display_name": "Python 3"
    },
    "language_info": {
      "name": "python"
    }
  },
  "cells": [
    {
      "cell_type": "markdown",
      "metadata": {
        "id": "L6MGMB0vrn60"
      },
      "source": [
        "#Classification of ECG for normal and abnormal beats using CNN"
      ]
    },
    {
      "cell_type": "code",
      "metadata": {
        "colab": {
          "base_uri": "https://localhost:8080/"
        },
        "id": "OkWm0LPUrs6q",
        "outputId": "5642c97d-fb82-41f6-a3da-731071ab0b17"
      },
      "source": [
        "from google.colab import drive\n",
        "drive.mount('/content/drive')"
      ],
      "execution_count": 1,
      "outputs": [
        {
          "output_type": "stream",
          "text": [
            "Mounted at /content/drive\n"
          ],
          "name": "stdout"
        }
      ]
    },
    {
      "cell_type": "code",
      "metadata": {
        "id": "e55wl02Pr4Eb"
      },
      "source": [
        "import pandas as pd\n",
        "import matplotlib.pyplot as plt\n",
        "import numpy as np\n",
        "from tensorflow.keras import Sequential,utils\n",
        "from tensorflow.keras.layers import Flatten, Dense, Conv1D, MaxPool1D, Dropout\n",
        "import seaborn as sns\n",
        "from sklearn.metrics import confusion_matrix, accuracy_score\n",
        "from sklearn.model_selection import train_test_split"
      ],
      "execution_count": 2,
      "outputs": []
    },
    {
      "cell_type": "code",
      "metadata": {
        "id": "ZCRtv0KBscnl"
      },
      "source": [
        "test=pd.read_csv(\"drive/My Drive/DataSet/mitbih_test.csv\",header=None) \n",
        "train=pd.read_csv(\"drive/My Drive/mitbih_train.csv\",header=None) "
      ],
      "execution_count": 3,
      "outputs": []
    },
    {
      "cell_type": "code",
      "metadata": {
        "colab": {
          "base_uri": "https://localhost:8080/"
        },
        "id": "A-DNn0DTsoHo",
        "outputId": "bd6e43d8-396a-4702-e8a8-adff9e33dfd5"
      },
      "source": [
        "print(\"Type\\tCount\")\n",
        "print((train[187]).value_counts())\n",
        "\n",
        "print(\"train shape : \",train.shape)\n",
        "print(\"test shape : \",test.shape)"
      ],
      "execution_count": 4,
      "outputs": [
        {
          "output_type": "stream",
          "text": [
            "Type\tCount\n",
            "0.0    72471\n",
            "4.0     6431\n",
            "2.0     5788\n",
            "1.0     2223\n",
            "3.0      641\n",
            "Name: 187, dtype: int64\n",
            "train shape :  (87554, 188)\n",
            "test shape :  (21892, 188)\n"
          ],
          "name": "stdout"
        }
      ]
    },
    {
      "cell_type": "markdown",
      "metadata": {
        "id": "lYIhF8h_strz"
      },
      "source": [
        "###Processing data"
      ]
    },
    {
      "cell_type": "code",
      "metadata": {
        "id": "atxph3u2swlu"
      },
      "source": [
        "# making multiclass to binary class new labels_train containing either 0 or 1 \n",
        "\n",
        "label_train=[] \n",
        "for i in train.iloc[:,187] :\n",
        "    if i not in  [0.0]:\n",
        "        label_train.append(1)\n",
        "        #print(\"value is\",i)\n",
        "    else:\n",
        "        label_train.append(0)\n",
        "        #print(\"value\",i)"
      ],
      "execution_count": 5,
      "outputs": []
    },
    {
      "cell_type": "code",
      "metadata": {
        "id": "tGNc_bLUsz23"
      },
      "source": [
        "# making multiclass to binary class.now labels_test containing either 0 or 1 \n",
        "\n",
        "label_test=[]  \n",
        "for i in test.iloc[:,187]:\n",
        "    if i not in  [0.0]:\n",
        "        label_test.append(1)\n",
        "        #print(\"value is\",i)\n",
        "    else:\n",
        "        label_test.append(0)\n",
        "        #print(\"value\",i)"
      ],
      "execution_count": 6,
      "outputs": []
    },
    {
      "cell_type": "code",
      "metadata": {
        "id": "KW9SRQUys2Rr"
      },
      "source": [
        "#create new df \n",
        "labels_train = pd.DataFrame({'col':label_train})\n",
        "#print (labels_train)\n",
        "\n",
        "labels_test = pd.DataFrame({'col':label_test})\n",
        "#print (labels_test)"
      ],
      "execution_count": 7,
      "outputs": []
    },
    {
      "cell_type": "code",
      "metadata": {
        "id": "SYfzhef9s4Zh"
      },
      "source": [
        "label_train=np.asarray(label_train)\n",
        "\n",
        "label_test=np.asarray(label_test)\n",
        "\n",
        "train[187] = labels_train    # replace labels column with binary labels\n",
        "test[187] =  labels_test"
      ],
      "execution_count": 8,
      "outputs": []
    },
    {
      "cell_type": "code",
      "metadata": {
        "colab": {
          "base_uri": "https://localhost:8080/"
        },
        "id": "8bH-s--Zs7lq",
        "outputId": "c06ef26e-3aa1-479d-8bb0-4ab4dfb76c66"
      },
      "source": [
        "print('Count of all classes in training dataset')\n",
        "print(\"Type\\tCount\")\n",
        "print((train[187]).value_counts())\n",
        "\n",
        "print('*************************************')\n",
        "\n",
        "print('Count of all classes in test dataset')\n",
        "print(\"Type\\tCount\")\n",
        "print((test[187]).value_counts())"
      ],
      "execution_count": 9,
      "outputs": [
        {
          "output_type": "stream",
          "text": [
            "Count of all classes in training dataset\n",
            "Type\tCount\n",
            "0    72471\n",
            "1    15083\n",
            "Name: 187, dtype: int64\n",
            "*************************************\n",
            "Count of all classes in test dataset\n",
            "Type\tCount\n",
            "0    18118\n",
            "1     3774\n",
            "Name: 187, dtype: int64\n"
          ],
          "name": "stdout"
        }
      ]
    },
    {
      "cell_type": "code",
      "metadata": {
        "colab": {
          "base_uri": "https://localhost:8080/",
          "height": 439
        },
        "id": "q6ttyhMXs_x7",
        "outputId": "d0d011f5-f00a-427b-c8fb-2364bacc6b80"
      },
      "source": [
        "train"
      ],
      "execution_count": 10,
      "outputs": [
        {
          "output_type": "execute_result",
          "data": {
            "text/html": [
              "<div>\n",
              "<style scoped>\n",
              "    .dataframe tbody tr th:only-of-type {\n",
              "        vertical-align: middle;\n",
              "    }\n",
              "\n",
              "    .dataframe tbody tr th {\n",
              "        vertical-align: top;\n",
              "    }\n",
              "\n",
              "    .dataframe thead th {\n",
              "        text-align: right;\n",
              "    }\n",
              "</style>\n",
              "<table border=\"1\" class=\"dataframe\">\n",
              "  <thead>\n",
              "    <tr style=\"text-align: right;\">\n",
              "      <th></th>\n",
              "      <th>0</th>\n",
              "      <th>1</th>\n",
              "      <th>2</th>\n",
              "      <th>3</th>\n",
              "      <th>4</th>\n",
              "      <th>5</th>\n",
              "      <th>6</th>\n",
              "      <th>7</th>\n",
              "      <th>8</th>\n",
              "      <th>9</th>\n",
              "      <th>10</th>\n",
              "      <th>11</th>\n",
              "      <th>12</th>\n",
              "      <th>13</th>\n",
              "      <th>14</th>\n",
              "      <th>15</th>\n",
              "      <th>16</th>\n",
              "      <th>17</th>\n",
              "      <th>18</th>\n",
              "      <th>19</th>\n",
              "      <th>20</th>\n",
              "      <th>21</th>\n",
              "      <th>22</th>\n",
              "      <th>23</th>\n",
              "      <th>24</th>\n",
              "      <th>25</th>\n",
              "      <th>26</th>\n",
              "      <th>27</th>\n",
              "      <th>28</th>\n",
              "      <th>29</th>\n",
              "      <th>30</th>\n",
              "      <th>31</th>\n",
              "      <th>32</th>\n",
              "      <th>33</th>\n",
              "      <th>34</th>\n",
              "      <th>35</th>\n",
              "      <th>36</th>\n",
              "      <th>37</th>\n",
              "      <th>38</th>\n",
              "      <th>39</th>\n",
              "      <th>...</th>\n",
              "      <th>148</th>\n",
              "      <th>149</th>\n",
              "      <th>150</th>\n",
              "      <th>151</th>\n",
              "      <th>152</th>\n",
              "      <th>153</th>\n",
              "      <th>154</th>\n",
              "      <th>155</th>\n",
              "      <th>156</th>\n",
              "      <th>157</th>\n",
              "      <th>158</th>\n",
              "      <th>159</th>\n",
              "      <th>160</th>\n",
              "      <th>161</th>\n",
              "      <th>162</th>\n",
              "      <th>163</th>\n",
              "      <th>164</th>\n",
              "      <th>165</th>\n",
              "      <th>166</th>\n",
              "      <th>167</th>\n",
              "      <th>168</th>\n",
              "      <th>169</th>\n",
              "      <th>170</th>\n",
              "      <th>171</th>\n",
              "      <th>172</th>\n",
              "      <th>173</th>\n",
              "      <th>174</th>\n",
              "      <th>175</th>\n",
              "      <th>176</th>\n",
              "      <th>177</th>\n",
              "      <th>178</th>\n",
              "      <th>179</th>\n",
              "      <th>180</th>\n",
              "      <th>181</th>\n",
              "      <th>182</th>\n",
              "      <th>183</th>\n",
              "      <th>184</th>\n",
              "      <th>185</th>\n",
              "      <th>186</th>\n",
              "      <th>187</th>\n",
              "    </tr>\n",
              "  </thead>\n",
              "  <tbody>\n",
              "    <tr>\n",
              "      <th>0</th>\n",
              "      <td>0.977941</td>\n",
              "      <td>0.926471</td>\n",
              "      <td>0.681373</td>\n",
              "      <td>0.245098</td>\n",
              "      <td>0.154412</td>\n",
              "      <td>0.191176</td>\n",
              "      <td>0.151961</td>\n",
              "      <td>0.085784</td>\n",
              "      <td>0.058824</td>\n",
              "      <td>0.049020</td>\n",
              "      <td>0.044118</td>\n",
              "      <td>0.061275</td>\n",
              "      <td>0.066176</td>\n",
              "      <td>0.061275</td>\n",
              "      <td>0.049020</td>\n",
              "      <td>0.073529</td>\n",
              "      <td>0.061275</td>\n",
              "      <td>0.061275</td>\n",
              "      <td>0.066176</td>\n",
              "      <td>0.068627</td>\n",
              "      <td>0.095588</td>\n",
              "      <td>0.075980</td>\n",
              "      <td>0.093137</td>\n",
              "      <td>0.105392</td>\n",
              "      <td>0.115196</td>\n",
              "      <td>0.102941</td>\n",
              "      <td>0.117647</td>\n",
              "      <td>0.125000</td>\n",
              "      <td>0.142157</td>\n",
              "      <td>0.127451</td>\n",
              "      <td>0.151961</td>\n",
              "      <td>0.144608</td>\n",
              "      <td>0.164216</td>\n",
              "      <td>0.144608</td>\n",
              "      <td>0.159314</td>\n",
              "      <td>0.151961</td>\n",
              "      <td>0.154412</td>\n",
              "      <td>0.142157</td>\n",
              "      <td>0.151961</td>\n",
              "      <td>0.151961</td>\n",
              "      <td>...</td>\n",
              "      <td>0.0</td>\n",
              "      <td>0.0</td>\n",
              "      <td>0.0</td>\n",
              "      <td>0.0</td>\n",
              "      <td>0.0</td>\n",
              "      <td>0.0</td>\n",
              "      <td>0.0</td>\n",
              "      <td>0.0</td>\n",
              "      <td>0.0</td>\n",
              "      <td>0.0</td>\n",
              "      <td>0.0</td>\n",
              "      <td>0.0</td>\n",
              "      <td>0.0</td>\n",
              "      <td>0.0</td>\n",
              "      <td>0.0</td>\n",
              "      <td>0.0</td>\n",
              "      <td>0.0</td>\n",
              "      <td>0.0</td>\n",
              "      <td>0.0</td>\n",
              "      <td>0.0</td>\n",
              "      <td>0.0</td>\n",
              "      <td>0.0</td>\n",
              "      <td>0.0</td>\n",
              "      <td>0.0</td>\n",
              "      <td>0.0</td>\n",
              "      <td>0.0</td>\n",
              "      <td>0.0</td>\n",
              "      <td>0.0</td>\n",
              "      <td>0.0</td>\n",
              "      <td>0.0</td>\n",
              "      <td>0.0</td>\n",
              "      <td>0.0</td>\n",
              "      <td>0.0</td>\n",
              "      <td>0.0</td>\n",
              "      <td>0.0</td>\n",
              "      <td>0.0</td>\n",
              "      <td>0.0</td>\n",
              "      <td>0.0</td>\n",
              "      <td>0.0</td>\n",
              "      <td>0</td>\n",
              "    </tr>\n",
              "    <tr>\n",
              "      <th>1</th>\n",
              "      <td>0.960114</td>\n",
              "      <td>0.863248</td>\n",
              "      <td>0.461538</td>\n",
              "      <td>0.196581</td>\n",
              "      <td>0.094017</td>\n",
              "      <td>0.125356</td>\n",
              "      <td>0.099715</td>\n",
              "      <td>0.088319</td>\n",
              "      <td>0.074074</td>\n",
              "      <td>0.082621</td>\n",
              "      <td>0.074074</td>\n",
              "      <td>0.062678</td>\n",
              "      <td>0.065527</td>\n",
              "      <td>0.065527</td>\n",
              "      <td>0.062678</td>\n",
              "      <td>0.076923</td>\n",
              "      <td>0.071225</td>\n",
              "      <td>0.082621</td>\n",
              "      <td>0.091168</td>\n",
              "      <td>0.096866</td>\n",
              "      <td>0.082621</td>\n",
              "      <td>0.082621</td>\n",
              "      <td>0.091168</td>\n",
              "      <td>0.105413</td>\n",
              "      <td>0.122507</td>\n",
              "      <td>0.148148</td>\n",
              "      <td>0.182336</td>\n",
              "      <td>0.193732</td>\n",
              "      <td>0.213675</td>\n",
              "      <td>0.207977</td>\n",
              "      <td>0.222222</td>\n",
              "      <td>0.253561</td>\n",
              "      <td>0.270655</td>\n",
              "      <td>0.287749</td>\n",
              "      <td>0.284900</td>\n",
              "      <td>0.293447</td>\n",
              "      <td>0.256410</td>\n",
              "      <td>0.247863</td>\n",
              "      <td>0.188034</td>\n",
              "      <td>0.145299</td>\n",
              "      <td>...</td>\n",
              "      <td>0.0</td>\n",
              "      <td>0.0</td>\n",
              "      <td>0.0</td>\n",
              "      <td>0.0</td>\n",
              "      <td>0.0</td>\n",
              "      <td>0.0</td>\n",
              "      <td>0.0</td>\n",
              "      <td>0.0</td>\n",
              "      <td>0.0</td>\n",
              "      <td>0.0</td>\n",
              "      <td>0.0</td>\n",
              "      <td>0.0</td>\n",
              "      <td>0.0</td>\n",
              "      <td>0.0</td>\n",
              "      <td>0.0</td>\n",
              "      <td>0.0</td>\n",
              "      <td>0.0</td>\n",
              "      <td>0.0</td>\n",
              "      <td>0.0</td>\n",
              "      <td>0.0</td>\n",
              "      <td>0.0</td>\n",
              "      <td>0.0</td>\n",
              "      <td>0.0</td>\n",
              "      <td>0.0</td>\n",
              "      <td>0.0</td>\n",
              "      <td>0.0</td>\n",
              "      <td>0.0</td>\n",
              "      <td>0.0</td>\n",
              "      <td>0.0</td>\n",
              "      <td>0.0</td>\n",
              "      <td>0.0</td>\n",
              "      <td>0.0</td>\n",
              "      <td>0.0</td>\n",
              "      <td>0.0</td>\n",
              "      <td>0.0</td>\n",
              "      <td>0.0</td>\n",
              "      <td>0.0</td>\n",
              "      <td>0.0</td>\n",
              "      <td>0.0</td>\n",
              "      <td>0</td>\n",
              "    </tr>\n",
              "    <tr>\n",
              "      <th>2</th>\n",
              "      <td>1.000000</td>\n",
              "      <td>0.659459</td>\n",
              "      <td>0.186486</td>\n",
              "      <td>0.070270</td>\n",
              "      <td>0.070270</td>\n",
              "      <td>0.059459</td>\n",
              "      <td>0.056757</td>\n",
              "      <td>0.043243</td>\n",
              "      <td>0.054054</td>\n",
              "      <td>0.045946</td>\n",
              "      <td>0.056757</td>\n",
              "      <td>0.043243</td>\n",
              "      <td>0.067568</td>\n",
              "      <td>0.062162</td>\n",
              "      <td>0.078378</td>\n",
              "      <td>0.072973</td>\n",
              "      <td>0.086486</td>\n",
              "      <td>0.081081</td>\n",
              "      <td>0.108108</td>\n",
              "      <td>0.110811</td>\n",
              "      <td>0.135135</td>\n",
              "      <td>0.135135</td>\n",
              "      <td>0.170270</td>\n",
              "      <td>0.183784</td>\n",
              "      <td>0.216216</td>\n",
              "      <td>0.237838</td>\n",
              "      <td>0.270270</td>\n",
              "      <td>0.286486</td>\n",
              "      <td>0.316216</td>\n",
              "      <td>0.318919</td>\n",
              "      <td>0.332432</td>\n",
              "      <td>0.297297</td>\n",
              "      <td>0.267568</td>\n",
              "      <td>0.216216</td>\n",
              "      <td>0.189189</td>\n",
              "      <td>0.132432</td>\n",
              "      <td>0.118919</td>\n",
              "      <td>0.064865</td>\n",
              "      <td>0.064865</td>\n",
              "      <td>0.043243</td>\n",
              "      <td>...</td>\n",
              "      <td>0.0</td>\n",
              "      <td>0.0</td>\n",
              "      <td>0.0</td>\n",
              "      <td>0.0</td>\n",
              "      <td>0.0</td>\n",
              "      <td>0.0</td>\n",
              "      <td>0.0</td>\n",
              "      <td>0.0</td>\n",
              "      <td>0.0</td>\n",
              "      <td>0.0</td>\n",
              "      <td>0.0</td>\n",
              "      <td>0.0</td>\n",
              "      <td>0.0</td>\n",
              "      <td>0.0</td>\n",
              "      <td>0.0</td>\n",
              "      <td>0.0</td>\n",
              "      <td>0.0</td>\n",
              "      <td>0.0</td>\n",
              "      <td>0.0</td>\n",
              "      <td>0.0</td>\n",
              "      <td>0.0</td>\n",
              "      <td>0.0</td>\n",
              "      <td>0.0</td>\n",
              "      <td>0.0</td>\n",
              "      <td>0.0</td>\n",
              "      <td>0.0</td>\n",
              "      <td>0.0</td>\n",
              "      <td>0.0</td>\n",
              "      <td>0.0</td>\n",
              "      <td>0.0</td>\n",
              "      <td>0.0</td>\n",
              "      <td>0.0</td>\n",
              "      <td>0.0</td>\n",
              "      <td>0.0</td>\n",
              "      <td>0.0</td>\n",
              "      <td>0.0</td>\n",
              "      <td>0.0</td>\n",
              "      <td>0.0</td>\n",
              "      <td>0.0</td>\n",
              "      <td>0</td>\n",
              "    </tr>\n",
              "    <tr>\n",
              "      <th>3</th>\n",
              "      <td>0.925414</td>\n",
              "      <td>0.665746</td>\n",
              "      <td>0.541436</td>\n",
              "      <td>0.276243</td>\n",
              "      <td>0.196133</td>\n",
              "      <td>0.077348</td>\n",
              "      <td>0.071823</td>\n",
              "      <td>0.060773</td>\n",
              "      <td>0.066298</td>\n",
              "      <td>0.058011</td>\n",
              "      <td>0.063536</td>\n",
              "      <td>0.082873</td>\n",
              "      <td>0.085635</td>\n",
              "      <td>0.093923</td>\n",
              "      <td>0.113260</td>\n",
              "      <td>0.124309</td>\n",
              "      <td>0.140884</td>\n",
              "      <td>0.132597</td>\n",
              "      <td>0.140884</td>\n",
              "      <td>0.091160</td>\n",
              "      <td>0.085635</td>\n",
              "      <td>0.074586</td>\n",
              "      <td>0.071823</td>\n",
              "      <td>0.080110</td>\n",
              "      <td>0.096685</td>\n",
              "      <td>0.118785</td>\n",
              "      <td>0.138122</td>\n",
              "      <td>0.140884</td>\n",
              "      <td>0.138122</td>\n",
              "      <td>0.146409</td>\n",
              "      <td>0.110497</td>\n",
              "      <td>0.102210</td>\n",
              "      <td>0.060773</td>\n",
              "      <td>0.027624</td>\n",
              "      <td>0.038674</td>\n",
              "      <td>0.013812</td>\n",
              "      <td>0.011050</td>\n",
              "      <td>0.013812</td>\n",
              "      <td>0.033149</td>\n",
              "      <td>0.005525</td>\n",
              "      <td>...</td>\n",
              "      <td>0.0</td>\n",
              "      <td>0.0</td>\n",
              "      <td>0.0</td>\n",
              "      <td>0.0</td>\n",
              "      <td>0.0</td>\n",
              "      <td>0.0</td>\n",
              "      <td>0.0</td>\n",
              "      <td>0.0</td>\n",
              "      <td>0.0</td>\n",
              "      <td>0.0</td>\n",
              "      <td>0.0</td>\n",
              "      <td>0.0</td>\n",
              "      <td>0.0</td>\n",
              "      <td>0.0</td>\n",
              "      <td>0.0</td>\n",
              "      <td>0.0</td>\n",
              "      <td>0.0</td>\n",
              "      <td>0.0</td>\n",
              "      <td>0.0</td>\n",
              "      <td>0.0</td>\n",
              "      <td>0.0</td>\n",
              "      <td>0.0</td>\n",
              "      <td>0.0</td>\n",
              "      <td>0.0</td>\n",
              "      <td>0.0</td>\n",
              "      <td>0.0</td>\n",
              "      <td>0.0</td>\n",
              "      <td>0.0</td>\n",
              "      <td>0.0</td>\n",
              "      <td>0.0</td>\n",
              "      <td>0.0</td>\n",
              "      <td>0.0</td>\n",
              "      <td>0.0</td>\n",
              "      <td>0.0</td>\n",
              "      <td>0.0</td>\n",
              "      <td>0.0</td>\n",
              "      <td>0.0</td>\n",
              "      <td>0.0</td>\n",
              "      <td>0.0</td>\n",
              "      <td>0</td>\n",
              "    </tr>\n",
              "    <tr>\n",
              "      <th>4</th>\n",
              "      <td>0.967136</td>\n",
              "      <td>1.000000</td>\n",
              "      <td>0.830986</td>\n",
              "      <td>0.586854</td>\n",
              "      <td>0.356808</td>\n",
              "      <td>0.248826</td>\n",
              "      <td>0.145540</td>\n",
              "      <td>0.089202</td>\n",
              "      <td>0.117371</td>\n",
              "      <td>0.150235</td>\n",
              "      <td>0.131455</td>\n",
              "      <td>0.122066</td>\n",
              "      <td>0.140845</td>\n",
              "      <td>0.159624</td>\n",
              "      <td>0.150235</td>\n",
              "      <td>0.145540</td>\n",
              "      <td>0.136150</td>\n",
              "      <td>0.169014</td>\n",
              "      <td>0.178404</td>\n",
              "      <td>0.173709</td>\n",
              "      <td>0.183099</td>\n",
              "      <td>0.201878</td>\n",
              "      <td>0.187793</td>\n",
              "      <td>0.164319</td>\n",
              "      <td>0.187793</td>\n",
              "      <td>0.215962</td>\n",
              "      <td>0.215962</td>\n",
              "      <td>0.201878</td>\n",
              "      <td>0.211268</td>\n",
              "      <td>0.230047</td>\n",
              "      <td>0.215962</td>\n",
              "      <td>0.230047</td>\n",
              "      <td>0.239437</td>\n",
              "      <td>0.267606</td>\n",
              "      <td>0.253521</td>\n",
              "      <td>0.230047</td>\n",
              "      <td>0.220657</td>\n",
              "      <td>0.225352</td>\n",
              "      <td>0.211268</td>\n",
              "      <td>0.173709</td>\n",
              "      <td>...</td>\n",
              "      <td>0.0</td>\n",
              "      <td>0.0</td>\n",
              "      <td>0.0</td>\n",
              "      <td>0.0</td>\n",
              "      <td>0.0</td>\n",
              "      <td>0.0</td>\n",
              "      <td>0.0</td>\n",
              "      <td>0.0</td>\n",
              "      <td>0.0</td>\n",
              "      <td>0.0</td>\n",
              "      <td>0.0</td>\n",
              "      <td>0.0</td>\n",
              "      <td>0.0</td>\n",
              "      <td>0.0</td>\n",
              "      <td>0.0</td>\n",
              "      <td>0.0</td>\n",
              "      <td>0.0</td>\n",
              "      <td>0.0</td>\n",
              "      <td>0.0</td>\n",
              "      <td>0.0</td>\n",
              "      <td>0.0</td>\n",
              "      <td>0.0</td>\n",
              "      <td>0.0</td>\n",
              "      <td>0.0</td>\n",
              "      <td>0.0</td>\n",
              "      <td>0.0</td>\n",
              "      <td>0.0</td>\n",
              "      <td>0.0</td>\n",
              "      <td>0.0</td>\n",
              "      <td>0.0</td>\n",
              "      <td>0.0</td>\n",
              "      <td>0.0</td>\n",
              "      <td>0.0</td>\n",
              "      <td>0.0</td>\n",
              "      <td>0.0</td>\n",
              "      <td>0.0</td>\n",
              "      <td>0.0</td>\n",
              "      <td>0.0</td>\n",
              "      <td>0.0</td>\n",
              "      <td>0</td>\n",
              "    </tr>\n",
              "    <tr>\n",
              "      <th>...</th>\n",
              "      <td>...</td>\n",
              "      <td>...</td>\n",
              "      <td>...</td>\n",
              "      <td>...</td>\n",
              "      <td>...</td>\n",
              "      <td>...</td>\n",
              "      <td>...</td>\n",
              "      <td>...</td>\n",
              "      <td>...</td>\n",
              "      <td>...</td>\n",
              "      <td>...</td>\n",
              "      <td>...</td>\n",
              "      <td>...</td>\n",
              "      <td>...</td>\n",
              "      <td>...</td>\n",
              "      <td>...</td>\n",
              "      <td>...</td>\n",
              "      <td>...</td>\n",
              "      <td>...</td>\n",
              "      <td>...</td>\n",
              "      <td>...</td>\n",
              "      <td>...</td>\n",
              "      <td>...</td>\n",
              "      <td>...</td>\n",
              "      <td>...</td>\n",
              "      <td>...</td>\n",
              "      <td>...</td>\n",
              "      <td>...</td>\n",
              "      <td>...</td>\n",
              "      <td>...</td>\n",
              "      <td>...</td>\n",
              "      <td>...</td>\n",
              "      <td>...</td>\n",
              "      <td>...</td>\n",
              "      <td>...</td>\n",
              "      <td>...</td>\n",
              "      <td>...</td>\n",
              "      <td>...</td>\n",
              "      <td>...</td>\n",
              "      <td>...</td>\n",
              "      <td>...</td>\n",
              "      <td>...</td>\n",
              "      <td>...</td>\n",
              "      <td>...</td>\n",
              "      <td>...</td>\n",
              "      <td>...</td>\n",
              "      <td>...</td>\n",
              "      <td>...</td>\n",
              "      <td>...</td>\n",
              "      <td>...</td>\n",
              "      <td>...</td>\n",
              "      <td>...</td>\n",
              "      <td>...</td>\n",
              "      <td>...</td>\n",
              "      <td>...</td>\n",
              "      <td>...</td>\n",
              "      <td>...</td>\n",
              "      <td>...</td>\n",
              "      <td>...</td>\n",
              "      <td>...</td>\n",
              "      <td>...</td>\n",
              "      <td>...</td>\n",
              "      <td>...</td>\n",
              "      <td>...</td>\n",
              "      <td>...</td>\n",
              "      <td>...</td>\n",
              "      <td>...</td>\n",
              "      <td>...</td>\n",
              "      <td>...</td>\n",
              "      <td>...</td>\n",
              "      <td>...</td>\n",
              "      <td>...</td>\n",
              "      <td>...</td>\n",
              "      <td>...</td>\n",
              "      <td>...</td>\n",
              "      <td>...</td>\n",
              "      <td>...</td>\n",
              "      <td>...</td>\n",
              "      <td>...</td>\n",
              "      <td>...</td>\n",
              "      <td>...</td>\n",
              "    </tr>\n",
              "    <tr>\n",
              "      <th>87549</th>\n",
              "      <td>0.807018</td>\n",
              "      <td>0.494737</td>\n",
              "      <td>0.536842</td>\n",
              "      <td>0.529825</td>\n",
              "      <td>0.491228</td>\n",
              "      <td>0.484211</td>\n",
              "      <td>0.456140</td>\n",
              "      <td>0.396491</td>\n",
              "      <td>0.284211</td>\n",
              "      <td>0.136842</td>\n",
              "      <td>0.052632</td>\n",
              "      <td>0.140351</td>\n",
              "      <td>0.119298</td>\n",
              "      <td>0.091228</td>\n",
              "      <td>0.140351</td>\n",
              "      <td>0.161404</td>\n",
              "      <td>0.105263</td>\n",
              "      <td>0.143860</td>\n",
              "      <td>0.143860</td>\n",
              "      <td>0.129825</td>\n",
              "      <td>0.147368</td>\n",
              "      <td>0.157895</td>\n",
              "      <td>0.164912</td>\n",
              "      <td>0.168421</td>\n",
              "      <td>0.154386</td>\n",
              "      <td>0.175439</td>\n",
              "      <td>0.164912</td>\n",
              "      <td>0.154386</td>\n",
              "      <td>0.182456</td>\n",
              "      <td>0.192982</td>\n",
              "      <td>0.196491</td>\n",
              "      <td>0.207018</td>\n",
              "      <td>0.217544</td>\n",
              "      <td>0.217544</td>\n",
              "      <td>0.256140</td>\n",
              "      <td>0.284211</td>\n",
              "      <td>0.294737</td>\n",
              "      <td>0.301754</td>\n",
              "      <td>0.301754</td>\n",
              "      <td>0.322807</td>\n",
              "      <td>...</td>\n",
              "      <td>0.0</td>\n",
              "      <td>0.0</td>\n",
              "      <td>0.0</td>\n",
              "      <td>0.0</td>\n",
              "      <td>0.0</td>\n",
              "      <td>0.0</td>\n",
              "      <td>0.0</td>\n",
              "      <td>0.0</td>\n",
              "      <td>0.0</td>\n",
              "      <td>0.0</td>\n",
              "      <td>0.0</td>\n",
              "      <td>0.0</td>\n",
              "      <td>0.0</td>\n",
              "      <td>0.0</td>\n",
              "      <td>0.0</td>\n",
              "      <td>0.0</td>\n",
              "      <td>0.0</td>\n",
              "      <td>0.0</td>\n",
              "      <td>0.0</td>\n",
              "      <td>0.0</td>\n",
              "      <td>0.0</td>\n",
              "      <td>0.0</td>\n",
              "      <td>0.0</td>\n",
              "      <td>0.0</td>\n",
              "      <td>0.0</td>\n",
              "      <td>0.0</td>\n",
              "      <td>0.0</td>\n",
              "      <td>0.0</td>\n",
              "      <td>0.0</td>\n",
              "      <td>0.0</td>\n",
              "      <td>0.0</td>\n",
              "      <td>0.0</td>\n",
              "      <td>0.0</td>\n",
              "      <td>0.0</td>\n",
              "      <td>0.0</td>\n",
              "      <td>0.0</td>\n",
              "      <td>0.0</td>\n",
              "      <td>0.0</td>\n",
              "      <td>0.0</td>\n",
              "      <td>1</td>\n",
              "    </tr>\n",
              "    <tr>\n",
              "      <th>87550</th>\n",
              "      <td>0.718333</td>\n",
              "      <td>0.605000</td>\n",
              "      <td>0.486667</td>\n",
              "      <td>0.361667</td>\n",
              "      <td>0.231667</td>\n",
              "      <td>0.120000</td>\n",
              "      <td>0.051667</td>\n",
              "      <td>0.001667</td>\n",
              "      <td>0.000000</td>\n",
              "      <td>0.013333</td>\n",
              "      <td>0.078333</td>\n",
              "      <td>0.183333</td>\n",
              "      <td>0.275000</td>\n",
              "      <td>0.315000</td>\n",
              "      <td>0.361667</td>\n",
              "      <td>0.430000</td>\n",
              "      <td>0.481667</td>\n",
              "      <td>0.526667</td>\n",
              "      <td>0.543333</td>\n",
              "      <td>0.563333</td>\n",
              "      <td>0.581667</td>\n",
              "      <td>0.588333</td>\n",
              "      <td>0.600000</td>\n",
              "      <td>0.603333</td>\n",
              "      <td>0.613333</td>\n",
              "      <td>0.621667</td>\n",
              "      <td>0.636667</td>\n",
              "      <td>0.651667</td>\n",
              "      <td>0.665000</td>\n",
              "      <td>0.681667</td>\n",
              "      <td>0.700000</td>\n",
              "      <td>0.711667</td>\n",
              "      <td>0.735000</td>\n",
              "      <td>0.763333</td>\n",
              "      <td>0.785000</td>\n",
              "      <td>0.810000</td>\n",
              "      <td>0.835000</td>\n",
              "      <td>0.856667</td>\n",
              "      <td>0.876667</td>\n",
              "      <td>0.880000</td>\n",
              "      <td>...</td>\n",
              "      <td>0.0</td>\n",
              "      <td>0.0</td>\n",
              "      <td>0.0</td>\n",
              "      <td>0.0</td>\n",
              "      <td>0.0</td>\n",
              "      <td>0.0</td>\n",
              "      <td>0.0</td>\n",
              "      <td>0.0</td>\n",
              "      <td>0.0</td>\n",
              "      <td>0.0</td>\n",
              "      <td>0.0</td>\n",
              "      <td>0.0</td>\n",
              "      <td>0.0</td>\n",
              "      <td>0.0</td>\n",
              "      <td>0.0</td>\n",
              "      <td>0.0</td>\n",
              "      <td>0.0</td>\n",
              "      <td>0.0</td>\n",
              "      <td>0.0</td>\n",
              "      <td>0.0</td>\n",
              "      <td>0.0</td>\n",
              "      <td>0.0</td>\n",
              "      <td>0.0</td>\n",
              "      <td>0.0</td>\n",
              "      <td>0.0</td>\n",
              "      <td>0.0</td>\n",
              "      <td>0.0</td>\n",
              "      <td>0.0</td>\n",
              "      <td>0.0</td>\n",
              "      <td>0.0</td>\n",
              "      <td>0.0</td>\n",
              "      <td>0.0</td>\n",
              "      <td>0.0</td>\n",
              "      <td>0.0</td>\n",
              "      <td>0.0</td>\n",
              "      <td>0.0</td>\n",
              "      <td>0.0</td>\n",
              "      <td>0.0</td>\n",
              "      <td>0.0</td>\n",
              "      <td>1</td>\n",
              "    </tr>\n",
              "    <tr>\n",
              "      <th>87551</th>\n",
              "      <td>0.906122</td>\n",
              "      <td>0.624490</td>\n",
              "      <td>0.595918</td>\n",
              "      <td>0.575510</td>\n",
              "      <td>0.530612</td>\n",
              "      <td>0.481633</td>\n",
              "      <td>0.444898</td>\n",
              "      <td>0.387755</td>\n",
              "      <td>0.322449</td>\n",
              "      <td>0.191837</td>\n",
              "      <td>0.097959</td>\n",
              "      <td>0.048980</td>\n",
              "      <td>0.036735</td>\n",
              "      <td>0.053061</td>\n",
              "      <td>0.053061</td>\n",
              "      <td>0.097959</td>\n",
              "      <td>0.183673</td>\n",
              "      <td>0.269388</td>\n",
              "      <td>0.351020</td>\n",
              "      <td>0.408163</td>\n",
              "      <td>0.436735</td>\n",
              "      <td>0.469388</td>\n",
              "      <td>0.481633</td>\n",
              "      <td>0.518367</td>\n",
              "      <td>0.530612</td>\n",
              "      <td>0.534694</td>\n",
              "      <td>0.555102</td>\n",
              "      <td>0.591837</td>\n",
              "      <td>0.628571</td>\n",
              "      <td>0.632653</td>\n",
              "      <td>0.624490</td>\n",
              "      <td>0.616327</td>\n",
              "      <td>0.616327</td>\n",
              "      <td>0.608163</td>\n",
              "      <td>0.608163</td>\n",
              "      <td>0.620408</td>\n",
              "      <td>0.628571</td>\n",
              "      <td>0.624490</td>\n",
              "      <td>0.632653</td>\n",
              "      <td>0.644898</td>\n",
              "      <td>...</td>\n",
              "      <td>0.0</td>\n",
              "      <td>0.0</td>\n",
              "      <td>0.0</td>\n",
              "      <td>0.0</td>\n",
              "      <td>0.0</td>\n",
              "      <td>0.0</td>\n",
              "      <td>0.0</td>\n",
              "      <td>0.0</td>\n",
              "      <td>0.0</td>\n",
              "      <td>0.0</td>\n",
              "      <td>0.0</td>\n",
              "      <td>0.0</td>\n",
              "      <td>0.0</td>\n",
              "      <td>0.0</td>\n",
              "      <td>0.0</td>\n",
              "      <td>0.0</td>\n",
              "      <td>0.0</td>\n",
              "      <td>0.0</td>\n",
              "      <td>0.0</td>\n",
              "      <td>0.0</td>\n",
              "      <td>0.0</td>\n",
              "      <td>0.0</td>\n",
              "      <td>0.0</td>\n",
              "      <td>0.0</td>\n",
              "      <td>0.0</td>\n",
              "      <td>0.0</td>\n",
              "      <td>0.0</td>\n",
              "      <td>0.0</td>\n",
              "      <td>0.0</td>\n",
              "      <td>0.0</td>\n",
              "      <td>0.0</td>\n",
              "      <td>0.0</td>\n",
              "      <td>0.0</td>\n",
              "      <td>0.0</td>\n",
              "      <td>0.0</td>\n",
              "      <td>0.0</td>\n",
              "      <td>0.0</td>\n",
              "      <td>0.0</td>\n",
              "      <td>0.0</td>\n",
              "      <td>1</td>\n",
              "    </tr>\n",
              "    <tr>\n",
              "      <th>87552</th>\n",
              "      <td>0.858228</td>\n",
              "      <td>0.645570</td>\n",
              "      <td>0.845570</td>\n",
              "      <td>0.248101</td>\n",
              "      <td>0.167089</td>\n",
              "      <td>0.131646</td>\n",
              "      <td>0.121519</td>\n",
              "      <td>0.121519</td>\n",
              "      <td>0.118987</td>\n",
              "      <td>0.103797</td>\n",
              "      <td>0.101266</td>\n",
              "      <td>0.101266</td>\n",
              "      <td>0.088608</td>\n",
              "      <td>0.081013</td>\n",
              "      <td>0.073418</td>\n",
              "      <td>0.065823</td>\n",
              "      <td>0.065823</td>\n",
              "      <td>0.053165</td>\n",
              "      <td>0.048101</td>\n",
              "      <td>0.037975</td>\n",
              "      <td>0.035443</td>\n",
              "      <td>0.025316</td>\n",
              "      <td>0.020253</td>\n",
              "      <td>0.020253</td>\n",
              "      <td>0.017722</td>\n",
              "      <td>0.002532</td>\n",
              "      <td>0.005063</td>\n",
              "      <td>0.007595</td>\n",
              "      <td>0.000000</td>\n",
              "      <td>0.010127</td>\n",
              "      <td>0.010127</td>\n",
              "      <td>0.015190</td>\n",
              "      <td>0.035443</td>\n",
              "      <td>0.040506</td>\n",
              "      <td>0.050633</td>\n",
              "      <td>0.058228</td>\n",
              "      <td>0.070886</td>\n",
              "      <td>0.086076</td>\n",
              "      <td>0.098734</td>\n",
              "      <td>0.106329</td>\n",
              "      <td>...</td>\n",
              "      <td>0.0</td>\n",
              "      <td>0.0</td>\n",
              "      <td>0.0</td>\n",
              "      <td>0.0</td>\n",
              "      <td>0.0</td>\n",
              "      <td>0.0</td>\n",
              "      <td>0.0</td>\n",
              "      <td>0.0</td>\n",
              "      <td>0.0</td>\n",
              "      <td>0.0</td>\n",
              "      <td>0.0</td>\n",
              "      <td>0.0</td>\n",
              "      <td>0.0</td>\n",
              "      <td>0.0</td>\n",
              "      <td>0.0</td>\n",
              "      <td>0.0</td>\n",
              "      <td>0.0</td>\n",
              "      <td>0.0</td>\n",
              "      <td>0.0</td>\n",
              "      <td>0.0</td>\n",
              "      <td>0.0</td>\n",
              "      <td>0.0</td>\n",
              "      <td>0.0</td>\n",
              "      <td>0.0</td>\n",
              "      <td>0.0</td>\n",
              "      <td>0.0</td>\n",
              "      <td>0.0</td>\n",
              "      <td>0.0</td>\n",
              "      <td>0.0</td>\n",
              "      <td>0.0</td>\n",
              "      <td>0.0</td>\n",
              "      <td>0.0</td>\n",
              "      <td>0.0</td>\n",
              "      <td>0.0</td>\n",
              "      <td>0.0</td>\n",
              "      <td>0.0</td>\n",
              "      <td>0.0</td>\n",
              "      <td>0.0</td>\n",
              "      <td>0.0</td>\n",
              "      <td>1</td>\n",
              "    </tr>\n",
              "    <tr>\n",
              "      <th>87553</th>\n",
              "      <td>0.901506</td>\n",
              "      <td>0.845886</td>\n",
              "      <td>0.800695</td>\n",
              "      <td>0.748552</td>\n",
              "      <td>0.687138</td>\n",
              "      <td>0.599073</td>\n",
              "      <td>0.512167</td>\n",
              "      <td>0.427578</td>\n",
              "      <td>0.395133</td>\n",
              "      <td>0.402086</td>\n",
              "      <td>0.370800</td>\n",
              "      <td>0.287370</td>\n",
              "      <td>0.236385</td>\n",
              "      <td>0.324450</td>\n",
              "      <td>0.403244</td>\n",
              "      <td>0.409038</td>\n",
              "      <td>0.407880</td>\n",
              "      <td>0.390498</td>\n",
              "      <td>0.390498</td>\n",
              "      <td>0.419467</td>\n",
              "      <td>0.443801</td>\n",
              "      <td>0.487833</td>\n",
              "      <td>0.544612</td>\n",
              "      <td>0.574739</td>\n",
              "      <td>0.582851</td>\n",
              "      <td>0.592121</td>\n",
              "      <td>0.601390</td>\n",
              "      <td>0.611819</td>\n",
              "      <td>0.624565</td>\n",
              "      <td>0.634994</td>\n",
              "      <td>0.650058</td>\n",
              "      <td>0.661645</td>\n",
              "      <td>0.677868</td>\n",
              "      <td>0.691773</td>\n",
              "      <td>0.712630</td>\n",
              "      <td>0.726535</td>\n",
              "      <td>0.741599</td>\n",
              "      <td>0.749710</td>\n",
              "      <td>0.761298</td>\n",
              "      <td>0.763615</td>\n",
              "      <td>...</td>\n",
              "      <td>0.0</td>\n",
              "      <td>0.0</td>\n",
              "      <td>0.0</td>\n",
              "      <td>0.0</td>\n",
              "      <td>0.0</td>\n",
              "      <td>0.0</td>\n",
              "      <td>0.0</td>\n",
              "      <td>0.0</td>\n",
              "      <td>0.0</td>\n",
              "      <td>0.0</td>\n",
              "      <td>0.0</td>\n",
              "      <td>0.0</td>\n",
              "      <td>0.0</td>\n",
              "      <td>0.0</td>\n",
              "      <td>0.0</td>\n",
              "      <td>0.0</td>\n",
              "      <td>0.0</td>\n",
              "      <td>0.0</td>\n",
              "      <td>0.0</td>\n",
              "      <td>0.0</td>\n",
              "      <td>0.0</td>\n",
              "      <td>0.0</td>\n",
              "      <td>0.0</td>\n",
              "      <td>0.0</td>\n",
              "      <td>0.0</td>\n",
              "      <td>0.0</td>\n",
              "      <td>0.0</td>\n",
              "      <td>0.0</td>\n",
              "      <td>0.0</td>\n",
              "      <td>0.0</td>\n",
              "      <td>0.0</td>\n",
              "      <td>0.0</td>\n",
              "      <td>0.0</td>\n",
              "      <td>0.0</td>\n",
              "      <td>0.0</td>\n",
              "      <td>0.0</td>\n",
              "      <td>0.0</td>\n",
              "      <td>0.0</td>\n",
              "      <td>0.0</td>\n",
              "      <td>1</td>\n",
              "    </tr>\n",
              "  </tbody>\n",
              "</table>\n",
              "<p>87554 rows × 188 columns</p>\n",
              "</div>"
            ],
            "text/plain": [
              "            0         1         2         3    ...  184  185  186  187\n",
              "0      0.977941  0.926471  0.681373  0.245098  ...  0.0  0.0  0.0    0\n",
              "1      0.960114  0.863248  0.461538  0.196581  ...  0.0  0.0  0.0    0\n",
              "2      1.000000  0.659459  0.186486  0.070270  ...  0.0  0.0  0.0    0\n",
              "3      0.925414  0.665746  0.541436  0.276243  ...  0.0  0.0  0.0    0\n",
              "4      0.967136  1.000000  0.830986  0.586854  ...  0.0  0.0  0.0    0\n",
              "...         ...       ...       ...       ...  ...  ...  ...  ...  ...\n",
              "87549  0.807018  0.494737  0.536842  0.529825  ...  0.0  0.0  0.0    1\n",
              "87550  0.718333  0.605000  0.486667  0.361667  ...  0.0  0.0  0.0    1\n",
              "87551  0.906122  0.624490  0.595918  0.575510  ...  0.0  0.0  0.0    1\n",
              "87552  0.858228  0.645570  0.845570  0.248101  ...  0.0  0.0  0.0    1\n",
              "87553  0.901506  0.845886  0.800695  0.748552  ...  0.0  0.0  0.0    1\n",
              "\n",
              "[87554 rows x 188 columns]"
            ]
          },
          "metadata": {},
          "execution_count": 10
        }
      ]
    },
    {
      "cell_type": "code",
      "metadata": {
        "id": "QZ3TjdQ7tDfZ"
      },
      "source": [
        "dt = np.array(train)\n",
        "dt_test=np.array(test)"
      ],
      "execution_count": 11,
      "outputs": []
    },
    {
      "cell_type": "code",
      "metadata": {
        "colab": {
          "base_uri": "https://localhost:8080/",
          "height": 369
        },
        "id": "TLR2lQojtHMY",
        "outputId": "d2bf67a3-9cc3-4cad-f6f1-204cabdfa044"
      },
      "source": [
        "import seaborn as sb\n",
        "import scipy as sc\n",
        "import matplotlib.pyplot as plt\n",
        "sb.set_style(\"whitegrid\")\n",
        "x = np.arange(0, 186)*0.008 # In the experiment, only ECG lead II, MI and healthy samples were used. And in the experiment, the re-sampling frequency is 125 Hz. That is 0.008s. A signal contains 187 values, which is about 1.5s.\n",
        "plt.figure(figsize=(10,5))\n",
        "plt.plot(x, dt[0,:186] ) # data should  be array !\n",
        "\n",
        "plt.legend()\n",
        "plt.title(\"ECG \", fontsize=15)\n",
        "plt.ylabel(\"Amplitude\", fontsize=10)\n",
        "plt.xlabel(\"Time (s)\", fontsize=10)\n",
        "plt.show()"
      ],
      "execution_count": 12,
      "outputs": [
        {
          "output_type": "stream",
          "text": [
            "No handles with labels found to put in legend.\n"
          ],
          "name": "stderr"
        },
        {
          "output_type": "display_data",
          "data": {
            "image/png": "[encoded data removed]",
            "text/plain": [
              "<Figure size 720x360 with 1 Axes>"
            ]
          },
          "metadata": {}
        }
      ]
    },
    {
      "cell_type": "code",
      "metadata": {
        "id": "WcBGHIC2tJlD"
      },
      "source": [
        "def detect_peaks(data): # data should be array \n",
        "    pos=0\n",
        "    pospeak=[]\n",
        "\n",
        "    for i in data:\n",
        "        pos=pos+1\n",
        "        if i > 0.9 and i < 1:\n",
        "            pospeak.append(pos)\n",
        "            #print(\"peak\")\n",
        "    return ( pospeak)"
      ],
      "execution_count": 13,
      "outputs": []
    },
    {
      "cell_type": "code",
      "metadata": {
        "id": "MpB-1FxJtNyS"
      },
      "source": [
        "def calc_bpm(x,pospeak):\n",
        "    i=len(pospeak)-1\n",
        "    carreau = x[pospeak[i]]/0.04\n",
        "    bpm = 1500 / carreau\n",
        "    return bpm\n",
        "# This formula from: https://litfl.com/ecg-rate-interpretation/"
      ],
      "execution_count": 14,
      "outputs": []
    },
    {
      "cell_type": "code",
      "metadata": {
        "id": "ocX6Z0lftQM1"
      },
      "source": [
        "#add column to my data \n",
        "train[188]=1\n",
        "test[188]=1"
      ],
      "execution_count": 15,
      "outputs": []
    },
    {
      "cell_type": "markdown",
      "metadata": {
        "id": "l-fdsl0WtWGg"
      },
      "source": [
        "###Make train set classified by heart rates"
      ]
    },
    {
      "cell_type": "code",
      "metadata": {
        "colab": {
          "base_uri": "https://localhost:8080/"
        },
        "id": "F2kO2xS4tSOq",
        "outputId": "26540f4b-5e62-4b2c-d951-8b0e90699a7f"
      },
      "source": [
        "bpmcoeur=[]\n",
        "i=0\n",
        "for e in dt:# extract row by row in my data \n",
        "    x = np.arange(0, 188)*0.008\n",
        "    pospeak=[]\n",
        "    pospeak=detect_peaks(e)\n",
        "    #print(pospeak)\n",
        "    if not pospeak :\n",
        "        train[188][i]=0\n",
        "        i=i+1\n",
        "    else:\n",
        "        b=calc_bpm(x,pospeak)\n",
        "        train[188][i]=float(b)\n",
        "        i=i+1\n",
        "        bpmcoeur.append(b)\n",
        "#print(bpmcoeur)"
      ],
      "execution_count": 16,
      "outputs": [
        {
          "output_type": "stream",
          "text": [
            "/usr/local/lib/python3.7/dist-packages/ipykernel_launcher.py:13: SettingWithCopyWarning: \n",
            "A value is trying to be set on a copy of a slice from a DataFrame\n",
            "\n",
            "See the caveats in the documentation: https://pandas.pydata.org/pandas-docs/stable/user_guide/indexing.html#returning-a-view-versus-a-copy\n",
            "  del sys.path[0]\n",
            "/usr/local/lib/python3.7/dist-packages/ipykernel_launcher.py:9: SettingWithCopyWarning: \n",
            "A value is trying to be set on a copy of a slice from a DataFrame\n",
            "\n",
            "See the caveats in the documentation: https://pandas.pydata.org/pandas-docs/stable/user_guide/indexing.html#returning-a-view-versus-a-copy\n",
            "  if __name__ == '__main__':\n"
          ],
          "name": "stderr"
        }
      ]
    },
    {
      "cell_type": "code",
      "metadata": {
        "colab": {
          "base_uri": "https://localhost:8080/"
        },
        "id": "yb9PLSWbthf1",
        "outputId": "3740a70d-68a9-4773-99b8-ace04235aee8"
      },
      "source": [
        "\"\"\"\n",
        "Normal: 60–100 beats/min + signal normal                    ->  classe 0\n",
        "Anormal : Heart rates <60 or > 100 + \"S\" , \"V\" , \"Q\" or \"F\" -> classe 1\n",
        "\"\"\"\n",
        "data = train\n",
        "for i in range(len(data)):\n",
        "    if data[187][i] == 0 :\n",
        "        # all signaux normal\n",
        "        if data[188][i] >= 60 and data[188][i] <= 100 :\n",
        "            data[188][i]=0 # sig have normal heart rates \n",
        "        elif data[188][i] < 60 or data[188][i] > 100:\n",
        "            data[187][i]=1"
      ],
      "execution_count": 17,
      "outputs": [
        {
          "output_type": "stream",
          "text": [
            "/usr/local/lib/python3.7/dist-packages/ipykernel_launcher.py:10: SettingWithCopyWarning: \n",
            "A value is trying to be set on a copy of a slice from a DataFrame\n",
            "\n",
            "See the caveats in the documentation: https://pandas.pydata.org/pandas-docs/stable/user_guide/indexing.html#returning-a-view-versus-a-copy\n",
            "  # Remove the CWD from sys.path while we load stuff.\n",
            "/usr/local/lib/python3.7/dist-packages/ipykernel_launcher.py:12: SettingWithCopyWarning: \n",
            "A value is trying to be set on a copy of a slice from a DataFrame\n",
            "\n",
            "See the caveats in the documentation: https://pandas.pydata.org/pandas-docs/stable/user_guide/indexing.html#returning-a-view-versus-a-copy\n",
            "  if sys.path[0] == '':\n"
          ],
          "name": "stderr"
        }
      ]
    },
    {
      "cell_type": "code",
      "metadata": {
        "colab": {
          "base_uri": "https://localhost:8080/"
        },
        "id": "QBKw5HH5tnGo",
        "outputId": "a8e7671f-918d-4c63-dcfc-ed6063435a0b"
      },
      "source": [
        "train[187].value_counts() # 0 : signal normal , 1 : signal abnormal"
      ],
      "execution_count": 18,
      "outputs": [
        {
          "output_type": "execute_result",
          "data": {
            "text/plain": [
              "1    56725\n",
              "0    30829\n",
              "Name: 187, dtype: int64"
            ]
          },
          "metadata": {},
          "execution_count": 18
        }
      ]
    },
    {
      "cell_type": "code",
      "metadata": {
        "id": "x9n6ih3ltsNb"
      },
      "source": [
        "xtrain, xtest, ytrain, ytest = train_test_split(data.drop([187], axis=1), data[187], test_size = 0.1)"
      ],
      "execution_count": 19,
      "outputs": []
    },
    {
      "cell_type": "code",
      "metadata": {
        "id": "m8kYqXJuuVH2"
      },
      "source": [
        "xtrain = np.array(xtrain).reshape(xtrain.shape[0], xtrain.shape[1], 1)\n",
        "xtest = np.array(xtest).reshape(xtest.shape[0], xtest.shape[1], 1)"
      ],
      "execution_count": 20,
      "outputs": []
    },
    {
      "cell_type": "code",
      "metadata": {
        "colab": {
          "base_uri": "https://localhost:8080/",
          "height": 174
        },
        "id": "Wan4CqPzuYus",
        "outputId": "425ab01a-4021-4813-e645-b0f1d431cdac"
      },
      "source": [
        "fig, ax = plt.subplots(nrows = 1, ncols = 1, figsize=(25,2))\n",
        "ax.plot(data[data[187]==float(1)].sample(1).iloc[0,:186])"
      ],
      "execution_count": 21,
      "outputs": [
        {
          "output_type": "execute_result",
          "data": {
            "text/plain": [
              "[<matplotlib.lines.Line2D at 0x7f956a176f90>]"
            ]
          },
          "metadata": {},
          "execution_count": 21
        },
        {
          "output_type": "display_data",
          "data": {
            "image/png": "[encoded data removed]",
            "text/plain": [
              "<Figure size 1800x144 with 1 Axes>"
            ]
          },
          "metadata": {}
        }
      ]
    },
    {
      "cell_type": "markdown",
      "metadata": {
        "id": "XRYJTI-CunCe"
      },
      "source": [
        "#Model CNN"
      ]
    },
    {
      "cell_type": "code",
      "metadata": {
        "id": "-AadUI1ruc5k"
      },
      "source": [
        "neu = Sequential()\n",
        "\n",
        "neu.add(Conv1D(filters=32, kernel_size=(3,), padding='same', activation='relu', input_shape = (xtrain.shape[1],1)))\n",
        "neu.add(Conv1D(filters=64, kernel_size=(3,), padding='same', activation='relu')) \n",
        "neu.add(Conv1D(filters=128, kernel_size=(5,), padding='same', activation='relu'))    \n",
        "\n",
        "neu.add(MaxPool1D(pool_size=(3,), strides=2, padding='same'))\n",
        "neu.add(Dropout(0.5))\n",
        "\n",
        "neu.add(Flatten())\n",
        "\n",
        "neu.add(Dense(units = 512, activation='relu'))\n",
        "neu.add(Dense(units = 1024, activation='relu'))\n",
        "neu.add(Dense(units = 5, activation='softmax'))\n",
        "\n",
        "neu.compile(optimizer='adam', loss = 'sparse_categorical_crossentropy', metrics=['accuracy'])"
      ],
      "execution_count": 22,
      "outputs": []
    },
    {
      "cell_type": "code",
      "metadata": {
        "colab": {
          "base_uri": "https://localhost:8080/"
        },
        "id": "TE8CzaCYuqwM",
        "outputId": "ac7f622a-51fe-437a-ac6c-9937557095a3"
      },
      "source": [
        "his = neu.fit(xtrain, ytrain, epochs = 10)"
      ],
      "execution_count": 23,
      "outputs": [
        {
          "output_type": "stream",
          "text": [
            "Epoch 1/10\n",
            "2463/2463 [==============================] - 322s 130ms/step - loss: 0.1336 - accuracy: 0.9480\n",
            "Epoch 2/10\n",
            "2463/2463 [==============================] - 308s 125ms/step - loss: 0.0625 - accuracy: 0.9787\n",
            "Epoch 3/10\n",
            "2463/2463 [==============================] - 323s 131ms/step - loss: 0.0526 - accuracy: 0.9823\n",
            "Epoch 4/10\n",
            "2463/2463 [==============================] - 322s 131ms/step - loss: 0.0456 - accuracy: 0.9840\n",
            "Epoch 5/10\n",
            "2463/2463 [==============================] - 317s 129ms/step - loss: 0.0401 - accuracy: 0.9862\n",
            "Epoch 6/10\n",
            "2463/2463 [==============================] - 313s 127ms/step - loss: 0.0390 - accuracy: 0.9867\n",
            "Epoch 7/10\n",
            "2463/2463 [==============================] - 309s 125ms/step - loss: 0.0360 - accuracy: 0.9874\n",
            "Epoch 8/10\n",
            "2463/2463 [==============================] - 301s 122ms/step - loss: 0.0359 - accuracy: 0.9877\n",
            "Epoch 9/10\n",
            "2463/2463 [==============================] - 308s 125ms/step - loss: 0.0336 - accuracy: 0.9880\n",
            "Epoch 10/10\n",
            "2463/2463 [==============================] - 306s 124ms/step - loss: 0.0313 - accuracy: 0.9888\n"
          ],
          "name": "stdout"
        }
      ]
    },
    {
      "cell_type": "code",
      "metadata": {
        "id": "oN2SPEKAuviX"
      },
      "source": [
        "ypred_train = neu.predict(xtest)"
      ],
      "execution_count": 24,
      "outputs": []
    },
    {
      "cell_type": "code",
      "metadata": {
        "id": "VmVHHY857Aez",
        "outputId": "0930a81b-687e-4df5-9ca6-60bc8c469ddb",
        "colab": {
          "base_uri": "https://localhost:8080/",
          "height": 445
        }
      },
      "source": [
        "y_lbl = [np.where(i == np.max(i))[0][0] for i in ypred_train]\n",
        "mat = confusion_matrix(ytest, y_lbl)\n",
        "fig, ax = plt.subplots(figsize=(7,7))\n",
        "sns.heatmap(mat, annot = True)"
      ],
      "execution_count": 25,
      "outputs": [
        {
          "output_type": "execute_result",
          "data": {
            "text/plain": [
              "<matplotlib.axes._subplots.AxesSubplot at 0x7f95649f7190>"
            ]
          },
          "metadata": {},
          "execution_count": 25
        },
        {
          "output_type": "display_data",
          "data": {
            "image/png": "[encoded data removed]",
            "text/plain": [
              "<Figure size 504x504 with 2 Axes>"
            ]
          },
          "metadata": {}
        }
      ]
    },
    {
      "cell_type": "code",
      "metadata": {
        "id": "XBNl2PS47GWR",
        "outputId": "8205be5d-7e0e-48b0-a11a-62ea4573e16d",
        "colab": {
          "base_uri": "https://localhost:8080/"
        }
      },
      "source": [
        "print(\"Accuracy score of the predictions: {0}\".format(accuracy_score(y_lbl, ytest)))"
      ],
      "execution_count": 26,
      "outputs": [
        {
          "output_type": "stream",
          "text": [
            "Accuracy score of the predictions: 0.9923481041571494\n"
          ],
          "name": "stdout"
        }
      ]
    },
    {
      "cell_type": "markdown",
      "metadata": {
        "id": "avvngzRr7fR5"
      },
      "source": [
        "###Make test set classified by heart rates"
      ]
    },
    {
      "cell_type": "code",
      "metadata": {
        "id": "ZTyvwW4s7bDk",
        "outputId": "3df58290-f788-4b9b-af72-9767608df152",
        "colab": {
          "base_uri": "https://localhost:8080/"
        }
      },
      "source": [
        "bpmcoeur_test=[]\n",
        "i=0\n",
        "for e in dt_test:# extract row by row in our data \n",
        "    x = np.arange(0, 188)*0.008\n",
        "    pospeak=[]\n",
        "    pospeak=detect_peaks(e)\n",
        "    #print(pospeak)\n",
        "    if not pospeak :\n",
        "        test[188][i]=0\n",
        "        i=i+1\n",
        "    else:\n",
        "        b=calc_bpm(x,pospeak)\n",
        "        test[188][i]=float(b)\n",
        "        i=i+1\n",
        "        bpmcoeur_test.append(b)\n",
        "#print(bpmcoeur_test) "
      ],
      "execution_count": 27,
      "outputs": [
        {
          "output_type": "stream",
          "text": [
            "/usr/local/lib/python3.7/dist-packages/ipykernel_launcher.py:13: SettingWithCopyWarning: \n",
            "A value is trying to be set on a copy of a slice from a DataFrame\n",
            "\n",
            "See the caveats in the documentation: https://pandas.pydata.org/pandas-docs/stable/user_guide/indexing.html#returning-a-view-versus-a-copy\n",
            "  del sys.path[0]\n",
            "/usr/local/lib/python3.7/dist-packages/ipykernel_launcher.py:9: SettingWithCopyWarning: \n",
            "A value is trying to be set on a copy of a slice from a DataFrame\n",
            "\n",
            "See the caveats in the documentation: https://pandas.pydata.org/pandas-docs/stable/user_guide/indexing.html#returning-a-view-versus-a-copy\n",
            "  if __name__ == '__main__':\n"
          ],
          "name": "stderr"
        }
      ]
    },
    {
      "cell_type": "code",
      "metadata": {
        "id": "xF8xP7G37y26",
        "outputId": "74e6e327-f2e5-400e-fce7-18fff950c831",
        "colab": {
          "base_uri": "https://localhost:8080/"
        }
      },
      "source": [
        "data_test = test\n",
        "for i in range(len(data_test)):\n",
        "    if data_test[187][i] == 0 :\n",
        "        # all signaux normal\n",
        "        if data_test[188][i] >= 60 and data_test[188][i] <= 100 :\n",
        "            data_test[188][i]=0 # sig have normal heart rates \n",
        "        elif data_test[188][i] < 60 or data_test[188][i] > 100:\n",
        "            data_test[187][i]=1"
      ],
      "execution_count": 28,
      "outputs": [
        {
          "output_type": "stream",
          "text": [
            "/usr/local/lib/python3.7/dist-packages/ipykernel_launcher.py:6: SettingWithCopyWarning: \n",
            "A value is trying to be set on a copy of a slice from a DataFrame\n",
            "\n",
            "See the caveats in the documentation: https://pandas.pydata.org/pandas-docs/stable/user_guide/indexing.html#returning-a-view-versus-a-copy\n",
            "  \n",
            "/usr/local/lib/python3.7/dist-packages/ipykernel_launcher.py:8: SettingWithCopyWarning: \n",
            "A value is trying to be set on a copy of a slice from a DataFrame\n",
            "\n",
            "See the caveats in the documentation: https://pandas.pydata.org/pandas-docs/stable/user_guide/indexing.html#returning-a-view-versus-a-copy\n",
            "  \n"
          ],
          "name": "stderr"
        }
      ]
    },
    {
      "cell_type": "code",
      "metadata": {
        "id": "-mY4lDAK722p",
        "outputId": "4ebc1649-5b7c-45a9-8bb8-95a3520f4499",
        "colab": {
          "base_uri": "https://localhost:8080/"
        }
      },
      "source": [
        "test[187].value_counts()"
      ],
      "execution_count": 29,
      "outputs": [
        {
          "output_type": "execute_result",
          "data": {
            "text/plain": [
              "1    14138\n",
              "0     7754\n",
              "Name: 187, dtype: int64"
            ]
          },
          "metadata": {},
          "execution_count": 29
        }
      ]
    },
    {
      "cell_type": "code",
      "metadata": {
        "id": "LpNWXSG375VU",
        "outputId": "5d0b709e-fe98-4aca-8a36-3ce554e47497",
        "colab": {
          "base_uri": "https://localhost:8080/",
          "height": 174
        }
      },
      "source": [
        "fig, ax = plt.subplots(nrows = 1, ncols = 1, figsize=(25,2))\n",
        "ax.plot(test[test[187]==float(1)].sample(1).iloc[0,:186])"
      ],
      "execution_count": 30,
      "outputs": [
        {
          "output_type": "execute_result",
          "data": {
            "text/plain": [
              "[<matplotlib.lines.Line2D at 0x7f9561e34150>]"
            ]
          },
          "metadata": {},
          "execution_count": 30
        },
        {
          "output_type": "display_data",
          "data": {
            "image/png": "[encoded data removed]",
            "text/plain": [
              "<Figure size 1800x144 with 1 Axes>"
            ]
          },
          "metadata": {}
        }
      ]
    },
    {
      "cell_type": "code",
      "metadata": {
        "id": "iwn5coAx8NSK"
      },
      "source": [
        "xtest = test.drop([187], axis=1) \n",
        "ytest = test[187]\n",
        "\n",
        "xtest = np.array(xtest).reshape(xtest.shape[0], xtest.shape[1], 1)"
      ],
      "execution_count": 31,
      "outputs": []
    },
    {
      "cell_type": "code",
      "metadata": {
        "id": "U6ozBZK-8R-W"
      },
      "source": [
        "ytest_pred = neu.predict(xtest)"
      ],
      "execution_count": 32,
      "outputs": []
    },
    {
      "cell_type": "code",
      "metadata": {
        "id": "GURBCnnz8XAZ",
        "outputId": "bce9fa96-5863-4976-f32e-107bb14a827d",
        "colab": {
          "base_uri": "https://localhost:8080/",
          "height": 449
        }
      },
      "source": [
        "ytest_lbl = [np.where(i == np.max(i))[0][0] for i in ytest_pred]\n",
        "mat = confusion_matrix(ytest, ytest_lbl)\n",
        "fig, ax = plt.subplots(figsize=(7,7))\n",
        "sns.heatmap(mat, annot = True)"
      ],
      "execution_count": 33,
      "outputs": [
        {
          "output_type": "execute_result",
          "data": {
            "text/plain": [
              "<matplotlib.axes._subplots.AxesSubplot at 0x7f9561d8ca90>"
            ]
          },
          "metadata": {},
          "execution_count": 33
        },
        {
          "output_type": "display_data",
          "data": {
            "image/png": "[encoded data removed]",
            "text/plain": [
              "<Figure size 504x504 with 2 Axes>"
            ]
          },
          "metadata": {}
        }
      ]
    },
    {
      "cell_type": "code",
      "metadata": {
        "id": "0VSjJFih8h43",
        "outputId": "40ca5538-15a9-4347-e928-5c656fe27d47",
        "colab": {
          "base_uri": "https://localhost:8080/"
        }
      },
      "source": [
        "print(\"Accuracy score of the predictions: {0}\".format(accuracy_score(ytest_lbl, ytest)))"
      ],
      "execution_count": 34,
      "outputs": [
        {
          "output_type": "stream",
          "text": [
            "Accuracy score of the predictions: 0.9931481819842864\n"
          ],
          "name": "stdout"
        }
      ]
    },
    {
      "cell_type": "code",
      "metadata": {
        "id": "ALi3fEjA8mx7"
      },
      "source": [
        ""
      ],
      "execution_count": null,
      "outputs": []
    }
  ]
}
